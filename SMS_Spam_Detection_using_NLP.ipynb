{
  "nbformat": 4,
  "nbformat_minor": 0,
  "metadata": {
    "colab": {
      "provenance": [],
      "collapsed_sections": [],
      "toc_visible": true
    },
    "kernelspec": {
      "name": "python3",
      "display_name": "Python 3"
    },
    "language_info": {
      "name": "python"
    }
  },
  "cells": [
    {
      "cell_type": "markdown",
      "metadata": {
        "id": "_mJQGbTFOCAx"
      },
      "source": [
        "<h1 align='center'><u>SMS Spam Detection using NLP </u></h1>"
      ]
    },
    {
      "cell_type": "code",
      "source": [
        "!pip install feature-engine -qq"
      ],
      "metadata": {
        "id": "lVzmmRxRT5-r"
      },
      "execution_count": 120,
      "outputs": []
    },
    {
      "cell_type": "code",
      "execution_count": 121,
      "metadata": {
        "execution": {
          "iopub.execute_input": "2021-09-11T17:05:58.152692Z",
          "iopub.status.busy": "2021-09-11T17:05:58.152163Z",
          "iopub.status.idle": "2021-09-11T17:06:00.896744Z",
          "shell.execute_reply": "2021-09-11T17:06:00.894839Z",
          "shell.execute_reply.started": "2021-09-11T17:05:58.152632Z"
        },
        "id": "abspHBS97iaL",
        "colab": {
          "base_uri": "https://localhost:8080/"
        },
        "outputId": "fe1f93e8-d7fc-42c1-f86c-9bc90c87be15"
      },
      "outputs": [
        {
          "output_type": "stream",
          "name": "stdout",
          "text": [
            "Looking in indexes: https://pypi.org/simple, https://us-python.pkg.dev/colab-wheels/public/simple/\n",
            "Requirement already satisfied: bs4 in /usr/local/lib/python3.7/dist-packages (0.0.1)\n",
            "Requirement already satisfied: beautifulsoup4 in /usr/local/lib/python3.7/dist-packages (from bs4) (4.6.3)\n"
          ]
        }
      ],
      "source": [
        "!pip install bs4"
      ]
    },
    {
      "cell_type": "code",
      "execution_count": 122,
      "metadata": {
        "collapsed": true,
        "id": "U9P3ByOmtcUN",
        "jupyter": {
          "outputs_hidden": true
        },
        "tags": []
      },
      "outputs": [],
      "source": [
        "!pip install -U spacy -qq"
      ]
    },
    {
      "cell_type": "code",
      "execution_count": 123,
      "metadata": {
        "execution": {
          "iopub.execute_input": "2022-02-09T14:28:31.201919Z",
          "iopub.status.busy": "2022-02-09T14:28:31.201774Z",
          "iopub.status.idle": "2022-02-09T14:28:31.205204Z",
          "shell.execute_reply": "2022-02-09T14:28:31.204837Z",
          "shell.execute_reply.started": "2022-02-09T14:28:31.201906Z"
        },
        "id": "3gEKx0PXOTyC",
        "tags": []
      },
      "outputs": [],
      "source": [
        "# Import Libraries\n",
        "import pandas as pd\n",
        "import numpy as np\n",
        "from pathlib import Path\n",
        "import textwrap as tw\n",
        "import matplotlib.pyplot as plt\n",
        "\n",
        "# learning Curves\n",
        "from sklearn.model_selection import learning_curve\n",
        "\n",
        "# save and load models\n",
        "import joblib\n",
        "\n",
        "import re\n",
        "from bs4 import BeautifulSoup\n",
        "import spacy\n",
        "\n",
        "#from scipy.sparse import hstack\n",
        "from sklearn.linear_model import LogisticRegression\n",
        "from sklearn.feature_extraction.text import TfidfTransformer, CountVectorizer, TfidfVectorizer\n",
        "from sklearn.metrics import classification_report\n",
        "from sklearn.pipeline import Pipeline\n",
        "from  sklearn.compose import ColumnTransformer\n",
        "from sklearn.model_selection import train_test_split\n",
        "from sklearn.metrics import fbeta_score, make_scorer\n",
        "from xgboost import XGBClassifier\n",
        "from sklearn.model_selection import RandomizedSearchCV\n",
        "from sklearn.metrics import precision_recall_fscore_support"
      ]
    },
    {
      "cell_type": "code",
      "source": [
        "!pip install preprocessing"
      ],
      "metadata": {
        "id": "aFcC_LURYvzN",
        "colab": {
          "base_uri": "https://localhost:8080/"
        },
        "outputId": "aa1b7a7e-9e1c-4ff0-b58e-25270845b031"
      },
      "execution_count": 124,
      "outputs": [
        {
          "output_type": "stream",
          "name": "stdout",
          "text": [
            "Looking in indexes: https://pypi.org/simple, https://us-python.pkg.dev/colab-wheels/public/simple/\n",
            "Requirement already satisfied: preprocessing in /usr/local/lib/python3.7/dist-packages (0.1.13)\n",
            "Requirement already satisfied: sphinx-rtd-theme==0.2.4 in /usr/local/lib/python3.7/dist-packages (from preprocessing) (0.2.4)\n",
            "Requirement already satisfied: nltk==3.2.4 in /usr/local/lib/python3.7/dist-packages (from preprocessing) (3.2.4)\n",
            "Requirement already satisfied: six in /usr/local/lib/python3.7/dist-packages (from nltk==3.2.4->preprocessing) (1.15.0)\n"
          ]
        }
      ]
    },
    {
      "cell_type": "code",
      "execution_count": 125,
      "metadata": {
        "execution": {
          "iopub.execute_input": "2022-02-09T14:28:31.780570Z",
          "iopub.status.busy": "2022-02-09T14:28:31.780426Z",
          "iopub.status.idle": "2022-02-09T14:28:31.782628Z",
          "shell.execute_reply": "2022-02-09T14:28:31.782206Z",
          "shell.execute_reply.started": "2022-02-09T14:28:31.780556Z"
        },
        "id": "S_hH-IN573Ze",
        "colab": {
          "base_uri": "https://localhost:8080/"
        },
        "outputId": "222a47db-b1f1-44a5-82e1-9ddbb2119b56"
      },
      "outputs": [
        {
          "output_type": "stream",
          "name": "stdout",
          "text": [
            "Drive already mounted at /content/drive; to attempt to forcibly remount, call drive.mount(\"/content/drive\", force_remount=True).\n"
          ]
        }
      ],
      "source": [
        "from google.colab import drive\n",
        "drive.mount('/content/drive')"
      ]
    },
    {
      "cell_type": "code",
      "execution_count": 126,
      "metadata": {
        "execution": {
          "iopub.execute_input": "2022-02-09T14:28:32.307066Z",
          "iopub.status.busy": "2022-02-09T14:28:32.306885Z",
          "iopub.status.idle": "2022-02-09T14:28:32.310347Z",
          "shell.execute_reply": "2022-02-09T14:28:32.309941Z",
          "shell.execute_reply.started": "2022-02-09T14:28:32.307052Z"
        },
        "id": "-617doq68krg",
        "tags": [],
        "colab": {
          "base_uri": "https://localhost:8080/",
          "height": 35
        },
        "outputId": "c4ce32c3-c21c-4bac-8782-43f4abf08f2f"
      },
      "outputs": [
        {
          "output_type": "execute_result",
          "data": {
            "text/plain": [
              "'3.4.2'"
            ],
            "application/vnd.google.colaboratory.intrinsic+json": {
              "type": "string"
            }
          },
          "metadata": {},
          "execution_count": 126
        }
      ],
      "source": [
        "spacy.__version__"
      ]
    },
    {
      "cell_type": "code",
      "execution_count": 127,
      "metadata": {
        "execution": {
          "iopub.execute_input": "2022-02-09T14:28:32.920517Z",
          "iopub.status.busy": "2022-02-09T14:28:32.920370Z",
          "iopub.status.idle": "2022-02-09T14:28:32.922844Z",
          "shell.execute_reply": "2022-02-09T14:28:32.922295Z",
          "shell.execute_reply.started": "2022-02-09T14:28:32.920504Z"
        },
        "id": "l1s3IWBg7iaM",
        "tags": []
      },
      "outputs": [],
      "source": [
        "data_folder = Path('/content/drive/MyDrive/Colab Notebooks')\n"
      ]
    },
    {
      "cell_type": "code",
      "execution_count": 128,
      "metadata": {
        "execution": {
          "iopub.execute_input": "2022-02-09T14:28:36.823480Z",
          "iopub.status.busy": "2022-02-09T14:28:36.822953Z",
          "iopub.status.idle": "2022-02-09T14:28:36.825498Z",
          "shell.execute_reply": "2022-02-09T14:28:36.825127Z",
          "shell.execute_reply.started": "2022-02-09T14:28:36.823464Z"
        },
        "id": "9DfsGy8Ze7y7",
        "tags": []
      },
      "outputs": [],
      "source": [
        "model_folder = Path('/content/drive/MyDrive/Colab Notebooks/Models')\n"
      ]
    },
    {
      "cell_type": "code",
      "execution_count": null,
      "metadata": {
        "collapsed": true,
        "id": "YK3EbpXOBBhB",
        "jupyter": {
          "outputs_hidden": true
        },
        "tags": []
      },
      "outputs": [],
      "source": [
        "!python -m spacy download 'en_core_web_sm'"
      ]
    },
    {
      "cell_type": "markdown",
      "metadata": {
        "id": "cXeG6ZQ4OVDj"
      },
      "source": [
        "## Loading the dataset"
      ]
    },
    {
      "cell_type": "code",
      "execution_count": 130,
      "metadata": {
        "execution": {
          "iopub.execute_input": "2022-02-09T14:28:40.127651Z",
          "iopub.status.busy": "2022-02-09T14:28:40.127507Z",
          "iopub.status.idle": "2022-02-09T14:28:40.386250Z",
          "shell.execute_reply": "2022-02-09T14:28:40.385773Z",
          "shell.execute_reply.started": "2022-02-09T14:28:40.127638Z"
        },
        "id": "PmZmCvuQQezx",
        "tags": []
      },
      "outputs": [],
      "source": [
        "# load spacy model\n",
        "nlp = spacy.load('en_core_web_sm')"
      ]
    },
    {
      "cell_type": "code",
      "execution_count": 131,
      "metadata": {
        "execution": {
          "iopub.execute_input": "2022-02-09T14:28:44.232680Z",
          "iopub.status.busy": "2022-02-09T14:28:44.232514Z",
          "iopub.status.idle": "2022-02-09T14:28:44.235272Z",
          "shell.execute_reply": "2022-02-09T14:28:44.234847Z",
          "shell.execute_reply.started": "2022-02-09T14:28:44.232652Z"
        },
        "id": "ea9obU6eBmwq",
        "tags": []
      },
      "outputs": [],
      "source": [
        "import sys\n",
        "sys.path.append('/content/drive/MyDrive/Colab Notebooks/Custom_functions')"
      ]
    },
    {
      "cell_type": "code",
      "source": [
        "# location of spam files\n",
        "spam_file = data_folder / 'spam.csv'"
      ],
      "metadata": {
        "id": "A8teI3B7gmDv"
      },
      "execution_count": 132,
      "outputs": []
    },
    {
      "cell_type": "code",
      "source": [
        "# creating Pandas Dataframe\n",
        "spam_data = pd.read_csv(spam_file, encoding='latin-1')\n",
        "spam_data"
      ],
      "metadata": {
        "id": "7DEHj10KgmHF",
        "colab": {
          "base_uri": "https://localhost:8080/",
          "height": 424
        },
        "outputId": "176dc08a-77d0-4e3a-838c-0b25033cc5f6"
      },
      "execution_count": 209,
      "outputs": [
        {
          "output_type": "execute_result",
          "data": {
            "text/plain": [
              "        v1                                                 v2 Unnamed: 2  \\\n",
              "0      ham  Go until jurong point, crazy.. Available only ...        NaN   \n",
              "1      ham                      Ok lar... Joking wif u oni...        NaN   \n",
              "2     spam  Free entry in 2 a wkly comp to win FA Cup fina...        NaN   \n",
              "3      ham  U dun say so early hor... U c already then say...        NaN   \n",
              "4      ham  Nah I don't think he goes to usf, he lives aro...        NaN   \n",
              "...    ...                                                ...        ...   \n",
              "5567  spam  This is the 2nd time we have tried 2 contact u...        NaN   \n",
              "5568   ham              Will Ì_ b going to esplanade fr home?        NaN   \n",
              "5569   ham  Pity, * was in mood for that. So...any other s...        NaN   \n",
              "5570   ham  The guy did some bitching but I acted like i'd...        NaN   \n",
              "5571   ham                         Rofl. Its true to its name        NaN   \n",
              "\n",
              "     Unnamed: 3 Unnamed: 4  \n",
              "0           NaN        NaN  \n",
              "1           NaN        NaN  \n",
              "2           NaN        NaN  \n",
              "3           NaN        NaN  \n",
              "4           NaN        NaN  \n",
              "...         ...        ...  \n",
              "5567        NaN        NaN  \n",
              "5568        NaN        NaN  \n",
              "5569        NaN        NaN  \n",
              "5570        NaN        NaN  \n",
              "5571        NaN        NaN  \n",
              "\n",
              "[5572 rows x 5 columns]"
            ],
            "text/html": [
              "\n",
              "  <div id=\"df-d790fd16-c781-40cf-9551-578a4edca67a\">\n",
              "    <div class=\"colab-df-container\">\n",
              "      <div>\n",
              "<style scoped>\n",
              "    .dataframe tbody tr th:only-of-type {\n",
              "        vertical-align: middle;\n",
              "    }\n",
              "\n",
              "    .dataframe tbody tr th {\n",
              "        vertical-align: top;\n",
              "    }\n",
              "\n",
              "    .dataframe thead th {\n",
              "        text-align: right;\n",
              "    }\n",
              "</style>\n",
              "<table border=\"1\" class=\"dataframe\">\n",
              "  <thead>\n",
              "    <tr style=\"text-align: right;\">\n",
              "      <th></th>\n",
              "      <th>v1</th>\n",
              "      <th>v2</th>\n",
              "      <th>Unnamed: 2</th>\n",
              "      <th>Unnamed: 3</th>\n",
              "      <th>Unnamed: 4</th>\n",
              "    </tr>\n",
              "  </thead>\n",
              "  <tbody>\n",
              "    <tr>\n",
              "      <th>0</th>\n",
              "      <td>ham</td>\n",
              "      <td>Go until jurong point, crazy.. Available only ...</td>\n",
              "      <td>NaN</td>\n",
              "      <td>NaN</td>\n",
              "      <td>NaN</td>\n",
              "    </tr>\n",
              "    <tr>\n",
              "      <th>1</th>\n",
              "      <td>ham</td>\n",
              "      <td>Ok lar... Joking wif u oni...</td>\n",
              "      <td>NaN</td>\n",
              "      <td>NaN</td>\n",
              "      <td>NaN</td>\n",
              "    </tr>\n",
              "    <tr>\n",
              "      <th>2</th>\n",
              "      <td>spam</td>\n",
              "      <td>Free entry in 2 a wkly comp to win FA Cup fina...</td>\n",
              "      <td>NaN</td>\n",
              "      <td>NaN</td>\n",
              "      <td>NaN</td>\n",
              "    </tr>\n",
              "    <tr>\n",
              "      <th>3</th>\n",
              "      <td>ham</td>\n",
              "      <td>U dun say so early hor... U c already then say...</td>\n",
              "      <td>NaN</td>\n",
              "      <td>NaN</td>\n",
              "      <td>NaN</td>\n",
              "    </tr>\n",
              "    <tr>\n",
              "      <th>4</th>\n",
              "      <td>ham</td>\n",
              "      <td>Nah I don't think he goes to usf, he lives aro...</td>\n",
              "      <td>NaN</td>\n",
              "      <td>NaN</td>\n",
              "      <td>NaN</td>\n",
              "    </tr>\n",
              "    <tr>\n",
              "      <th>...</th>\n",
              "      <td>...</td>\n",
              "      <td>...</td>\n",
              "      <td>...</td>\n",
              "      <td>...</td>\n",
              "      <td>...</td>\n",
              "    </tr>\n",
              "    <tr>\n",
              "      <th>5567</th>\n",
              "      <td>spam</td>\n",
              "      <td>This is the 2nd time we have tried 2 contact u...</td>\n",
              "      <td>NaN</td>\n",
              "      <td>NaN</td>\n",
              "      <td>NaN</td>\n",
              "    </tr>\n",
              "    <tr>\n",
              "      <th>5568</th>\n",
              "      <td>ham</td>\n",
              "      <td>Will Ì_ b going to esplanade fr home?</td>\n",
              "      <td>NaN</td>\n",
              "      <td>NaN</td>\n",
              "      <td>NaN</td>\n",
              "    </tr>\n",
              "    <tr>\n",
              "      <th>5569</th>\n",
              "      <td>ham</td>\n",
              "      <td>Pity, * was in mood for that. So...any other s...</td>\n",
              "      <td>NaN</td>\n",
              "      <td>NaN</td>\n",
              "      <td>NaN</td>\n",
              "    </tr>\n",
              "    <tr>\n",
              "      <th>5570</th>\n",
              "      <td>ham</td>\n",
              "      <td>The guy did some bitching but I acted like i'd...</td>\n",
              "      <td>NaN</td>\n",
              "      <td>NaN</td>\n",
              "      <td>NaN</td>\n",
              "    </tr>\n",
              "    <tr>\n",
              "      <th>5571</th>\n",
              "      <td>ham</td>\n",
              "      <td>Rofl. Its true to its name</td>\n",
              "      <td>NaN</td>\n",
              "      <td>NaN</td>\n",
              "      <td>NaN</td>\n",
              "    </tr>\n",
              "  </tbody>\n",
              "</table>\n",
              "<p>5572 rows × 5 columns</p>\n",
              "</div>\n",
              "      <button class=\"colab-df-convert\" onclick=\"convertToInteractive('df-d790fd16-c781-40cf-9551-578a4edca67a')\"\n",
              "              title=\"Convert this dataframe to an interactive table.\"\n",
              "              style=\"display:none;\">\n",
              "        \n",
              "  <svg xmlns=\"http://www.w3.org/2000/svg\" height=\"24px\"viewBox=\"0 0 24 24\"\n",
              "       width=\"24px\">\n",
              "    <path d=\"M0 0h24v24H0V0z\" fill=\"none\"/>\n",
              "    <path d=\"M18.56 5.44l.94 2.06.94-2.06 2.06-.94-2.06-.94-.94-2.06-.94 2.06-2.06.94zm-11 1L8.5 8.5l.94-2.06 2.06-.94-2.06-.94L8.5 2.5l-.94 2.06-2.06.94zm10 10l.94 2.06.94-2.06 2.06-.94-2.06-.94-.94-2.06-.94 2.06-2.06.94z\"/><path d=\"M17.41 7.96l-1.37-1.37c-.4-.4-.92-.59-1.43-.59-.52 0-1.04.2-1.43.59L10.3 9.45l-7.72 7.72c-.78.78-.78 2.05 0 2.83L4 21.41c.39.39.9.59 1.41.59.51 0 1.02-.2 1.41-.59l7.78-7.78 2.81-2.81c.8-.78.8-2.07 0-2.86zM5.41 20L4 18.59l7.72-7.72 1.47 1.35L5.41 20z\"/>\n",
              "  </svg>\n",
              "      </button>\n",
              "      \n",
              "  <style>\n",
              "    .colab-df-container {\n",
              "      display:flex;\n",
              "      flex-wrap:wrap;\n",
              "      gap: 12px;\n",
              "    }\n",
              "\n",
              "    .colab-df-convert {\n",
              "      background-color: #E8F0FE;\n",
              "      border: none;\n",
              "      border-radius: 50%;\n",
              "      cursor: pointer;\n",
              "      display: none;\n",
              "      fill: #1967D2;\n",
              "      height: 32px;\n",
              "      padding: 0 0 0 0;\n",
              "      width: 32px;\n",
              "    }\n",
              "\n",
              "    .colab-df-convert:hover {\n",
              "      background-color: #E2EBFA;\n",
              "      box-shadow: 0px 1px 2px rgba(60, 64, 67, 0.3), 0px 1px 3px 1px rgba(60, 64, 67, 0.15);\n",
              "      fill: #174EA6;\n",
              "    }\n",
              "\n",
              "    [theme=dark] .colab-df-convert {\n",
              "      background-color: #3B4455;\n",
              "      fill: #D2E3FC;\n",
              "    }\n",
              "\n",
              "    [theme=dark] .colab-df-convert:hover {\n",
              "      background-color: #434B5C;\n",
              "      box-shadow: 0px 1px 3px 1px rgba(0, 0, 0, 0.15);\n",
              "      filter: drop-shadow(0px 1px 2px rgba(0, 0, 0, 0.3));\n",
              "      fill: #FFFFFF;\n",
              "    }\n",
              "  </style>\n",
              "\n",
              "      <script>\n",
              "        const buttonEl =\n",
              "          document.querySelector('#df-d790fd16-c781-40cf-9551-578a4edca67a button.colab-df-convert');\n",
              "        buttonEl.style.display =\n",
              "          google.colab.kernel.accessAllowed ? 'block' : 'none';\n",
              "\n",
              "        async function convertToInteractive(key) {\n",
              "          const element = document.querySelector('#df-d790fd16-c781-40cf-9551-578a4edca67a');\n",
              "          const dataTable =\n",
              "            await google.colab.kernel.invokeFunction('convertToInteractive',\n",
              "                                                     [key], {});\n",
              "          if (!dataTable) return;\n",
              "\n",
              "          const docLinkHtml = 'Like what you see? Visit the ' +\n",
              "            '<a target=\"_blank\" href=https://colab.research.google.com/notebooks/data_table.ipynb>data table notebook</a>'\n",
              "            + ' to learn more about interactive tables.';\n",
              "          element.innerHTML = '';\n",
              "          dataTable['output_type'] = 'display_data';\n",
              "          await google.colab.output.renderOutput(dataTable, element);\n",
              "          const docLink = document.createElement('div');\n",
              "          docLink.innerHTML = docLinkHtml;\n",
              "          element.appendChild(docLink);\n",
              "        }\n",
              "      </script>\n",
              "    </div>\n",
              "  </div>\n",
              "  "
            ]
          },
          "metadata": {},
          "execution_count": 209
        }
      ]
    },
    {
      "cell_type": "code",
      "source": [
        "spam_data = spam_data.iloc[:,0:2]"
      ],
      "metadata": {
        "id": "qW_zE2ct6BpB"
      },
      "execution_count": 210,
      "outputs": []
    },
    {
      "cell_type": "code",
      "source": [
        "spam_data= spam_data.rename(columns={\"v1\":\"label\",\"v2\":\"message\"})"
      ],
      "metadata": {
        "id": "IHJ74gbK5Lkc"
      },
      "execution_count": 219,
      "outputs": []
    },
    {
      "cell_type": "code",
      "source": [
        "import pylab as plt\n",
        "\n",
        "# Plot fraus and nonfraud counts\n",
        "spam_data['label'].value_counts().plot(kind='bar', title='Spam and Ham Counts')"
      ],
      "metadata": {
        "colab": {
          "base_uri": "https://localhost:8080/",
          "height": 316
        },
        "id": "FXpRCGumdyMe",
        "outputId": "4386f20c-3ba2-44e9-b71b-d5065fcbc646"
      },
      "execution_count": 220,
      "outputs": [
        {
          "output_type": "execute_result",
          "data": {
            "text/plain": [
              "<matplotlib.axes._subplots.AxesSubplot at 0x7f7727d024d0>"
            ]
          },
          "metadata": {},
          "execution_count": 220
        },
        {
          "output_type": "display_data",
          "data": {
            "text/plain": [
              "<Figure size 432x288 with 1 Axes>"
            ],
            "image/png": "[encoded data removed]"
          },
          "metadata": {
            "needs_background": "light"
          }
        }
      ]
    },
    {
      "cell_type": "markdown",
      "source": [
        "## Percentage of ham amd spam in the data #"
      ],
      "metadata": {
        "id": "w_g1QfjwPz7Q"
      }
    },
    {
      "cell_type": "code",
      "source": [
        "#the % ham amd spam in the data\n",
        "spam_data['label'].value_counts(normalize=True)*100"
      ],
      "metadata": {
        "id": "K7UHBVhr5Lqa",
        "colab": {
          "base_uri": "https://localhost:8080/"
        },
        "outputId": "9342486e-3b08-4d7c-a6de-e589bd6cc083"
      },
      "execution_count": 223,
      "outputs": [
        {
          "output_type": "execute_result",
          "data": {
            "text/plain": [
              "ham     86.593683\n",
              "spam    13.406317\n",
              "Name: label, dtype: float64"
            ]
          },
          "metadata": {},
          "execution_count": 223
        }
      ]
    },
    {
      "cell_type": "markdown",
      "source": [
        "## Encoding for labels: 'ham' = 0 and 'spam' = 1"
      ],
      "metadata": {
        "id": "o1r5CirBpSIt"
      }
    },
    {
      "cell_type": "code",
      "source": [
        "spam_data['label'] = spam_data['label'].map({'ham':0,'spam':1}).astype(int)\n",
        "spam_data"
      ],
      "metadata": {
        "id": "k2m9GKRMpRX6",
        "colab": {
          "base_uri": "https://localhost:8080/",
          "height": 424
        },
        "outputId": "078fa348-1608-4b66-e111-705ce792d87d"
      },
      "execution_count": 137,
      "outputs": [
        {
          "output_type": "execute_result",
          "data": {
            "text/plain": [
              "      label                                            message\n",
              "0         0  Go until jurong point, crazy.. Available only ...\n",
              "1         0                      Ok lar... Joking wif u oni...\n",
              "2         1  Free entry in 2 a wkly comp to win FA Cup fina...\n",
              "3         0  U dun say so early hor... U c already then say...\n",
              "4         0  Nah I don't think he goes to usf, he lives aro...\n",
              "...     ...                                                ...\n",
              "5567      1  This is the 2nd time we have tried 2 contact u...\n",
              "5568      0              Will Ì_ b going to esplanade fr home?\n",
              "5569      0  Pity, * was in mood for that. So...any other s...\n",
              "5570      0  The guy did some bitching but I acted like i'd...\n",
              "5571      0                         Rofl. Its true to its name\n",
              "\n",
              "[5572 rows x 2 columns]"
            ],
            "text/html": [
              "\n",
              "  <div id=\"df-5a95efec-d2bb-47d0-b372-6acc47f2a080\">\n",
              "    <div class=\"colab-df-container\">\n",
              "      <div>\n",
              "<style scoped>\n",
              "    .dataframe tbody tr th:only-of-type {\n",
              "        vertical-align: middle;\n",
              "    }\n",
              "\n",
              "    .dataframe tbody tr th {\n",
              "        vertical-align: top;\n",
              "    }\n",
              "\n",
              "    .dataframe thead th {\n",
              "        text-align: right;\n",
              "    }\n",
              "</style>\n",
              "<table border=\"1\" class=\"dataframe\">\n",
              "  <thead>\n",
              "    <tr style=\"text-align: right;\">\n",
              "      <th></th>\n",
              "      <th>label</th>\n",
              "      <th>message</th>\n",
              "    </tr>\n",
              "  </thead>\n",
              "  <tbody>\n",
              "    <tr>\n",
              "      <th>0</th>\n",
              "      <td>0</td>\n",
              "      <td>Go until jurong point, crazy.. Available only ...</td>\n",
              "    </tr>\n",
              "    <tr>\n",
              "      <th>1</th>\n",
              "      <td>0</td>\n",
              "      <td>Ok lar... Joking wif u oni...</td>\n",
              "    </tr>\n",
              "    <tr>\n",
              "      <th>2</th>\n",
              "      <td>1</td>\n",
              "      <td>Free entry in 2 a wkly comp to win FA Cup fina...</td>\n",
              "    </tr>\n",
              "    <tr>\n",
              "      <th>3</th>\n",
              "      <td>0</td>\n",
              "      <td>U dun say so early hor... U c already then say...</td>\n",
              "    </tr>\n",
              "    <tr>\n",
              "      <th>4</th>\n",
              "      <td>0</td>\n",
              "      <td>Nah I don't think he goes to usf, he lives aro...</td>\n",
              "    </tr>\n",
              "    <tr>\n",
              "      <th>...</th>\n",
              "      <td>...</td>\n",
              "      <td>...</td>\n",
              "    </tr>\n",
              "    <tr>\n",
              "      <th>5567</th>\n",
              "      <td>1</td>\n",
              "      <td>This is the 2nd time we have tried 2 contact u...</td>\n",
              "    </tr>\n",
              "    <tr>\n",
              "      <th>5568</th>\n",
              "      <td>0</td>\n",
              "      <td>Will Ì_ b going to esplanade fr home?</td>\n",
              "    </tr>\n",
              "    <tr>\n",
              "      <th>5569</th>\n",
              "      <td>0</td>\n",
              "      <td>Pity, * was in mood for that. So...any other s...</td>\n",
              "    </tr>\n",
              "    <tr>\n",
              "      <th>5570</th>\n",
              "      <td>0</td>\n",
              "      <td>The guy did some bitching but I acted like i'd...</td>\n",
              "    </tr>\n",
              "    <tr>\n",
              "      <th>5571</th>\n",
              "      <td>0</td>\n",
              "      <td>Rofl. Its true to its name</td>\n",
              "    </tr>\n",
              "  </tbody>\n",
              "</table>\n",
              "<p>5572 rows × 2 columns</p>\n",
              "</div>\n",
              "      <button class=\"colab-df-convert\" onclick=\"convertToInteractive('df-5a95efec-d2bb-47d0-b372-6acc47f2a080')\"\n",
              "              title=\"Convert this dataframe to an interactive table.\"\n",
              "              style=\"display:none;\">\n",
              "        \n",
              "  <svg xmlns=\"http://www.w3.org/2000/svg\" height=\"24px\"viewBox=\"0 0 24 24\"\n",
              "       width=\"24px\">\n",
              "    <path d=\"M0 0h24v24H0V0z\" fill=\"none\"/>\n",
              "    <path d=\"M18.56 5.44l.94 2.06.94-2.06 2.06-.94-2.06-.94-.94-2.06-.94 2.06-2.06.94zm-11 1L8.5 8.5l.94-2.06 2.06-.94-2.06-.94L8.5 2.5l-.94 2.06-2.06.94zm10 10l.94 2.06.94-2.06 2.06-.94-2.06-.94-.94-2.06-.94 2.06-2.06.94z\"/><path d=\"M17.41 7.96l-1.37-1.37c-.4-.4-.92-.59-1.43-.59-.52 0-1.04.2-1.43.59L10.3 9.45l-7.72 7.72c-.78.78-.78 2.05 0 2.83L4 21.41c.39.39.9.59 1.41.59.51 0 1.02-.2 1.41-.59l7.78-7.78 2.81-2.81c.8-.78.8-2.07 0-2.86zM5.41 20L4 18.59l7.72-7.72 1.47 1.35L5.41 20z\"/>\n",
              "  </svg>\n",
              "      </button>\n",
              "      \n",
              "  <style>\n",
              "    .colab-df-container {\n",
              "      display:flex;\n",
              "      flex-wrap:wrap;\n",
              "      gap: 12px;\n",
              "    }\n",
              "\n",
              "    .colab-df-convert {\n",
              "      background-color: #E8F0FE;\n",
              "      border: none;\n",
              "      border-radius: 50%;\n",
              "      cursor: pointer;\n",
              "      display: none;\n",
              "      fill: #1967D2;\n",
              "      height: 32px;\n",
              "      padding: 0 0 0 0;\n",
              "      width: 32px;\n",
              "    }\n",
              "\n",
              "    .colab-df-convert:hover {\n",
              "      background-color: #E2EBFA;\n",
              "      box-shadow: 0px 1px 2px rgba(60, 64, 67, 0.3), 0px 1px 3px 1px rgba(60, 64, 67, 0.15);\n",
              "      fill: #174EA6;\n",
              "    }\n",
              "\n",
              "    [theme=dark] .colab-df-convert {\n",
              "      background-color: #3B4455;\n",
              "      fill: #D2E3FC;\n",
              "    }\n",
              "\n",
              "    [theme=dark] .colab-df-convert:hover {\n",
              "      background-color: #434B5C;\n",
              "      box-shadow: 0px 1px 3px 1px rgba(0, 0, 0, 0.15);\n",
              "      filter: drop-shadow(0px 1px 2px rgba(0, 0, 0, 0.3));\n",
              "      fill: #FFFFFF;\n",
              "    }\n",
              "  </style>\n",
              "\n",
              "      <script>\n",
              "        const buttonEl =\n",
              "          document.querySelector('#df-5a95efec-d2bb-47d0-b372-6acc47f2a080 button.colab-df-convert');\n",
              "        buttonEl.style.display =\n",
              "          google.colab.kernel.accessAllowed ? 'block' : 'none';\n",
              "\n",
              "        async function convertToInteractive(key) {\n",
              "          const element = document.querySelector('#df-5a95efec-d2bb-47d0-b372-6acc47f2a080');\n",
              "          const dataTable =\n",
              "            await google.colab.kernel.invokeFunction('convertToInteractive',\n",
              "                                                     [key], {});\n",
              "          if (!dataTable) return;\n",
              "\n",
              "          const docLinkHtml = 'Like what you see? Visit the ' +\n",
              "            '<a target=\"_blank\" href=https://colab.research.google.com/notebooks/data_table.ipynb>data table notebook</a>'\n",
              "            + ' to learn more about interactive tables.';\n",
              "          element.innerHTML = '';\n",
              "          dataTable['output_type'] = 'display_data';\n",
              "          await google.colab.output.renderOutput(dataTable, element);\n",
              "          const docLink = document.createElement('div');\n",
              "          docLink.innerHTML = docLinkHtml;\n",
              "          element.appendChild(docLink);\n",
              "        }\n",
              "      </script>\n",
              "    </div>\n",
              "  </div>\n",
              "  "
            ]
          },
          "metadata": {},
          "execution_count": 137
        }
      ]
    },
    {
      "cell_type": "markdown",
      "metadata": {
        "id": "pNdWCViagO4F"
      },
      "source": [
        "## Deciding the metric for evaluating model."
      ]
    },
    {
      "cell_type": "markdown",
      "source": [
        "**F0.5 Score**"
      ],
      "metadata": {
        "id": "HrSW7hqHgnD-"
      }
    },
    {
      "cell_type": "markdown",
      "metadata": {
        "id": "jDidQXofT54y"
      },
      "source": [
        "**In this case we consider 'spam' as positive label and 'ham' as negative label since the goal is to predict spam emails correctly. If spam emails remain undetected (Type II error /FN) it is still okay. But if we miss any critical email because it is classified as 'spam' (Type I error/FP) it will be problematic. Usually, spam folders are neglected so this might impact the user. Hence, here precision is more important i.e. out of all the spam emails predicted what percentage is truly spam emails. However, out dataset is highly imbalanced with higher count for the negative class (i.e. ham). The likeliness of predicting the negative label for new observation is more than the positive label. This means, we also need to reduce False Negatives (Type II error) to predict the class correctly. The F measure gives the same weightage to both precision and recall.Thus, we use Fbeta measure with beta = 0.5. This is a useful metric to use when both precision and recall are important but slightly more attention is needed on one or the other, in our case false positives are more important than false negatives. The smaller beta value gives more weightage to precision and less to recall. Hence, we use 'F0.5 score' as a metric for evaluation of the model.**\n"
      ]
    },
    {
      "cell_type": "markdown",
      "metadata": {
        "id": "rH8_mvGhiThV"
      },
      "source": [
        "## Classification Pipelines"
      ]
    },
    {
      "cell_type": "markdown",
      "source": [
        "### Subset Data "
      ],
      "metadata": {
        "id": "iJL8tYprRRwp"
      }
    },
    {
      "cell_type": "code",
      "source": [
        "subset_data = spam_data.sample(round(0.4 * len(spam_data)), random_state = 0)"
      ],
      "metadata": {
        "id": "QX5H0BNvRQ7B"
      },
      "execution_count": 138,
      "outputs": []
    },
    {
      "cell_type": "markdown",
      "metadata": {
        "id": "408NCzKbyNM2"
      },
      "source": [
        "### Train-Test Split"
      ]
    },
    {
      "cell_type": "code",
      "source": [
        "X_train, X_test, y_train, y_test = train_test_split(subset_data['message'].values, subset_data['label'].values, test_size=0.30, random_state=0)"
      ],
      "metadata": {
        "id": "pkRDBn2NyNM3"
      },
      "execution_count": 139,
      "outputs": []
    },
    {
      "cell_type": "code",
      "source": [
        "print(f'X_train: {X_train.shape} y_train: {y_train.shape}')\n",
        "print(f'X_test: {X_test.shape} y_test: {y_test.shape}')"
      ],
      "metadata": {
        "id": "1d4oizImO7Tm",
        "colab": {
          "base_uri": "https://localhost:8080/"
        },
        "outputId": "c657a2d9-32cd-4593-9790-898987d940e5"
      },
      "execution_count": 140,
      "outputs": [
        {
          "output_type": "stream",
          "name": "stdout",
          "text": [
            "X_train: (1560,) y_train: (1560,)\n",
            "X_test: (669,) y_test: (669,)\n"
          ]
        }
      ]
    },
    {
      "cell_type": "markdown",
      "source": [
        "## Pipeline1. Data Processing + Sparse Embeddings (TF-IDF) + ML Model"
      ],
      "metadata": {
        "id": "SFrYuYvF-8HA"
      }
    },
    {
      "cell_type": "code",
      "source": [
        "#importing custom_preprocessor, featurizer4 and learning_curve_fhalf\n",
        "import custom_preprocessor as cp\n",
        "\n",
        "from  featurizer4 import ManualFeatures\n",
        "\n",
        "from  learning_curve_fhalf import plot_learning_curve"
      ],
      "metadata": {
        "id": "_Jae0xydToIc"
      },
      "execution_count": 141,
      "outputs": []
    },
    {
      "cell_type": "markdown",
      "metadata": {
        "id": "6UGGDtDsdj40"
      },
      "source": [
        "#### Pre-processing"
      ]
    },
    {
      "cell_type": "code",
      "execution_count": 142,
      "metadata": {
        "execution": {
          "iopub.execute_input": "2022-02-09T14:33:02.336817Z",
          "iopub.status.busy": "2022-02-09T14:33:02.336718Z",
          "iopub.status.idle": "2022-02-09T14:33:26.620831Z",
          "shell.execute_reply": "2022-02-09T14:33:26.620307Z",
          "shell.execute_reply.started": "2022-02-09T14:33:02.336804Z"
        },
        "id": "NAZ07JFidsY3",
        "tags": []
      },
      "outputs": [],
      "source": [
        "X_train_cleaned = cp.SpacyPreprocessor(model ='en_core_web_sm', remove_stop=True,remove_url=False).transform(X_train)"
      ]
    },
    {
      "cell_type": "code",
      "execution_count": 143,
      "metadata": {
        "execution": {
          "iopub.execute_input": "2022-02-16T12:26:32.966179Z",
          "iopub.status.busy": "2022-02-16T12:26:32.965964Z",
          "iopub.status.idle": "2022-02-16T12:26:32.968861Z",
          "shell.execute_reply": "2022-02-16T12:26:32.968461Z",
          "shell.execute_reply.started": "2022-02-16T12:26:32.966147Z"
        },
        "tags": [],
        "id": "vwMrHc1HeyIM"
      },
      "outputs": [],
      "source": [
        "# save  this to a file\n",
        "X_train_cleaned_sparse_embed = model_folder / 'x_train_cleaned_sparse_embed.pkl'"
      ]
    },
    {
      "cell_type": "code",
      "execution_count": 144,
      "metadata": {
        "execution": {
          "iopub.execute_input": "2022-02-16T12:26:34.271603Z",
          "iopub.status.busy": "2022-02-16T12:26:34.271462Z",
          "iopub.status.idle": "2022-02-16T12:26:34.282366Z",
          "shell.execute_reply": "2022-02-16T12:26:34.281956Z",
          "shell.execute_reply.started": "2022-02-16T12:26:34.271590Z"
        },
        "tags": [],
        "id": "eq7q0-pCeyIN",
        "colab": {
          "base_uri": "https://localhost:8080/"
        },
        "outputId": "64191909-00e7-430e-ba2b-ed36f2947135"
      },
      "outputs": [
        {
          "output_type": "execute_result",
          "data": {
            "text/plain": [
              "['/content/drive/MyDrive/Colab Notebooks/Models/x_train_cleaned_sparse_embed.pkl']"
            ]
          },
          "metadata": {},
          "execution_count": 144
        }
      ],
      "source": [
        "joblib.dump(X_train_cleaned, X_train_cleaned_sparse_embed)"
      ]
    },
    {
      "cell_type": "markdown",
      "metadata": {
        "id": "lTcjwMUOeyIN"
      },
      "source": [
        "#### Create Pipeline"
      ]
    },
    {
      "cell_type": "code",
      "execution_count": 145,
      "metadata": {
        "execution": {
          "iopub.execute_input": "2022-02-09T14:33:26.621494Z",
          "iopub.status.busy": "2022-02-09T14:33:26.621383Z",
          "iopub.status.idle": "2022-02-09T14:33:26.624020Z",
          "shell.execute_reply": "2022-02-09T14:33:26.623779Z",
          "shell.execute_reply.started": "2022-02-09T14:33:26.621482Z"
        },
        "id": "eFs9aC3deKAx",
        "tags": []
      },
      "outputs": [],
      "source": [
        "classifier_1a = Pipeline([('vectorizer', TfidfVectorizer(analyzer='word', token_pattern=r\"[\\S]+\",ngram_range=(1,3))),\n",
        "                         ('classifier', XGBClassifier(weights = 10))])"
      ]
    },
    {
      "cell_type": "markdown",
      "metadata": {
        "id": "8UfD7EE_eyIO"
      },
      "source": [
        "#### Parameter Grid"
      ]
    },
    {
      "cell_type": "code",
      "execution_count": 146,
      "metadata": {
        "execution": {
          "iopub.execute_input": "2022-02-09T14:33:26.624619Z",
          "iopub.status.busy": "2022-02-09T14:33:26.624509Z",
          "iopub.status.idle": "2022-02-09T14:33:26.628101Z",
          "shell.execute_reply": "2022-02-09T14:33:26.627709Z",
          "shell.execute_reply.started": "2022-02-09T14:33:26.624608Z"
        },
        "id": "Rj859icxkmvH",
        "tags": []
      },
      "outputs": [],
      "source": [
        "param_grid_classifier_1a = {'vectorizer__max_features': [500, 1000, 2000, 5000],\n",
        "                           'vectorizer__max_df': [10,20,50],\n",
        "                           'classifier__learning_rate': np.linspace(0.01,1,10)}                         "
      ]
    },
    {
      "cell_type": "markdown",
      "metadata": {
        "execution": {
          "iopub.execute_input": "2022-02-14T23:23:08.590947Z",
          "iopub.status.busy": "2022-02-14T23:23:08.590808Z",
          "iopub.status.idle": "2022-02-14T23:23:08.593523Z",
          "shell.execute_reply": "2022-02-14T23:23:08.593065Z",
          "shell.execute_reply.started": "2022-02-14T23:23:08.590934Z"
        },
        "id": "ditgRkeyeyIP"
      },
      "source": [
        "#### Apply RandomizedSearch"
      ]
    },
    {
      "cell_type": "code",
      "execution_count": 147,
      "metadata": {
        "execution": {
          "iopub.execute_input": "2022-02-09T14:33:26.628685Z",
          "iopub.status.busy": "2022-02-09T14:33:26.628569Z",
          "iopub.status.idle": "2022-02-09T14:33:26.632001Z",
          "shell.execute_reply": "2022-02-09T14:33:26.631766Z",
          "shell.execute_reply.started": "2022-02-09T14:33:26.628672Z"
        },
        "id": "fOI19ImAkc4U",
        "tags": []
      },
      "outputs": [],
      "source": [
        "grid_classifier_1a = RandomizedSearchCV(classifier_1a, param_grid_classifier_1a, scoring=make_scorer(fbeta_score, beta=0.5), random_state=0, cv = 3, return_train_score=True, error_score='raise')"
      ]
    },
    {
      "cell_type": "code",
      "execution_count": 148,
      "metadata": {
        "execution": {
          "iopub.execute_input": "2022-02-09T14:33:26.632527Z",
          "iopub.status.busy": "2022-02-09T14:33:26.632416Z",
          "iopub.status.idle": "2022-02-09T14:33:42.715260Z",
          "shell.execute_reply": "2022-02-09T14:33:42.714941Z",
          "shell.execute_reply.started": "2022-02-09T14:33:26.632515Z"
        },
        "id": "nbRCGcGPlKVj",
        "tags": [],
        "colab": {
          "base_uri": "https://localhost:8080/"
        },
        "outputId": "157ae11f-5fd5-499c-b2bb-c2677138bbca"
      },
      "outputs": [
        {
          "output_type": "execute_result",
          "data": {
            "text/plain": [
              "RandomizedSearchCV(cv=3, error_score='raise',\n",
              "                   estimator=Pipeline(steps=[('vectorizer',\n",
              "                                              TfidfVectorizer(ngram_range=(1,\n",
              "                                                                           3),\n",
              "                                                              token_pattern='[\\\\S]+')),\n",
              "                                             ('classifier',\n",
              "                                              XGBClassifier(weights=10))]),\n",
              "                   param_distributions={'classifier__learning_rate': array([0.01, 0.12, 0.23, 0.34, 0.45, 0.56, 0.67, 0.78, 0.89, 1.  ]),\n",
              "                                        'vectorizer__max_df': [10, 20, 50],\n",
              "                                        'vectorizer__max_features': [500, 1000,\n",
              "                                                                     2000,\n",
              "                                                                     5000]},\n",
              "                   random_state=0, return_train_score=True,\n",
              "                   scoring=make_scorer(fbeta_score, beta=0.5))"
            ]
          },
          "metadata": {},
          "execution_count": 148
        }
      ],
      "source": [
        "# Fit the model on training data\n",
        "grid_classifier_1a.fit(X_train_cleaned, y_train)"
      ]
    },
    {
      "cell_type": "code",
      "execution_count": 149,
      "metadata": {
        "execution": {
          "iopub.execute_input": "2022-02-09T14:33:42.716162Z",
          "iopub.status.busy": "2022-02-09T14:33:42.715880Z",
          "iopub.status.idle": "2022-02-09T14:33:42.720775Z",
          "shell.execute_reply": "2022-02-09T14:33:42.720459Z",
          "shell.execute_reply.started": "2022-02-09T14:33:42.716140Z"
        },
        "id": "pMMD5DZNADbB",
        "tags": [],
        "colab": {
          "base_uri": "https://localhost:8080/"
        },
        "outputId": "c0927de2-fd78-4a01-ac95-8594ec6d394b"
      },
      "outputs": [
        {
          "output_type": "stream",
          "name": "stdout",
          "text": [
            "Best cross-validation score: 0.85\n",
            "\n",
            "Best parameters:  {'vectorizer__max_features': 1000, 'vectorizer__max_df': 50, 'classifier__learning_rate': 0.34}\n",
            "\n",
            "Best estimator:  Pipeline(steps=[('vectorizer',\n",
            "                 TfidfVectorizer(max_df=50, max_features=1000,\n",
            "                                 ngram_range=(1, 3), token_pattern='[\\\\S]+')),\n",
            "                ('classifier', XGBClassifier(learning_rate=0.34, weights=10))])\n"
          ]
        }
      ],
      "source": [
        "print(\"Best cross-validation score: {:.2f}\".format(grid_classifier_1a.best_score_))\n",
        "print(\"\\nBest parameters: \", grid_classifier_1a.best_params_)\n",
        "print(\"\\nBest estimator: \", grid_classifier_1a.best_estimator_)"
      ]
    },
    {
      "cell_type": "code",
      "execution_count": 150,
      "metadata": {
        "execution": {
          "iopub.execute_input": "2022-02-09T14:33:42.721893Z",
          "iopub.status.busy": "2022-02-09T14:33:42.721760Z",
          "iopub.status.idle": "2022-02-09T14:33:42.724640Z",
          "shell.execute_reply": "2022-02-09T14:33:42.724345Z",
          "shell.execute_reply.started": "2022-02-09T14:33:42.721880Z"
        },
        "tags": [],
        "id": "3aGEJ_Cq1waT"
      },
      "outputs": [],
      "source": [
        "file_model_sparse_embed = model_folder / 'sparse_embed_model.pkl'"
      ]
    },
    {
      "cell_type": "code",
      "execution_count": 151,
      "metadata": {
        "execution": {
          "iopub.execute_input": "2022-02-09T14:33:42.725288Z",
          "iopub.status.busy": "2022-02-09T14:33:42.725080Z",
          "iopub.status.idle": "2022-02-09T14:33:42.816701Z",
          "shell.execute_reply": "2022-02-09T14:33:42.816333Z",
          "shell.execute_reply.started": "2022-02-09T14:33:42.725272Z"
        },
        "tags": [],
        "id": "C-OPmBwO1waU",
        "colab": {
          "base_uri": "https://localhost:8080/"
        },
        "outputId": "8c986f92-4a69-4e58-b65d-cd21dbff01fd"
      },
      "outputs": [
        {
          "output_type": "execute_result",
          "data": {
            "text/plain": [
              "['/content/drive/MyDrive/Colab Notebooks/Models/sparse_embed_model.pkl']"
            ]
          },
          "metadata": {},
          "execution_count": 151
        }
      ],
      "source": [
        "joblib.dump(grid_classifier_1a.best_estimator_, file_model_sparse_embed)"
      ]
    },
    {
      "cell_type": "code",
      "execution_count": 152,
      "metadata": {
        "execution": {
          "iopub.execute_input": "2022-02-09T14:33:42.817384Z",
          "iopub.status.busy": "2022-02-09T14:33:42.817225Z",
          "iopub.status.idle": "2022-02-09T14:33:42.868022Z",
          "shell.execute_reply": "2022-02-09T14:33:42.867675Z",
          "shell.execute_reply.started": "2022-02-09T14:33:42.817369Z"
        },
        "id": "2383mlYv4-u4",
        "tags": []
      },
      "outputs": [],
      "source": [
        "# load the saved model\n",
        "loaded_model_sparse_embed = joblib.load(file_model_sparse_embed)"
      ]
    },
    {
      "cell_type": "code",
      "execution_count": 153,
      "metadata": {
        "execution": {
          "iopub.execute_input": "2022-02-09T14:33:42.868661Z",
          "iopub.status.busy": "2022-02-09T14:33:42.868522Z",
          "iopub.status.idle": "2022-02-09T14:33:48.326527Z",
          "shell.execute_reply": "2022-02-09T14:33:48.326098Z",
          "shell.execute_reply.started": "2022-02-09T14:33:42.868647Z"
        },
        "id": "Xwks6ftYeXH_",
        "tags": [],
        "colab": {
          "base_uri": "https://localhost:8080/",
          "height": 368
        },
        "outputId": "c4185fb8-5754-4ec3-8e3b-7134198abcf5"
      },
      "outputs": [
        {
          "output_type": "execute_result",
          "data": {
            "text/plain": [
              "<module 'matplotlib.pyplot' from '/usr/local/lib/python3.7/dist-packages/matplotlib/pyplot.py'>"
            ]
          },
          "metadata": {},
          "execution_count": 153
        },
        {
          "output_type": "display_data",
          "data": {
            "text/plain": [
              "<Figure size 1440x360 with 3 Axes>"
            ],
            "image/png": "[encoded data removed]"
          },
          "metadata": {
            "needs_background": "light"
          }
        }
      ],
      "source": [
        "# plot learning curves for f0.5 score\n",
        "plot_learning_curve(loaded_model_sparse_embed, 'Learning Curves classifier_1a', X_train_cleaned, y_train)"
      ]
    },
    {
      "cell_type": "markdown",
      "metadata": {
        "id": "oeM-o3ExUQuR"
      },
      "source": [
        "### Evaluate model on test datset"
      ]
    },
    {
      "cell_type": "code",
      "execution_count": 154,
      "metadata": {
        "execution": {
          "iopub.execute_input": "2022-02-09T14:34:59.304678Z",
          "iopub.status.busy": "2022-02-09T14:34:59.304531Z",
          "iopub.status.idle": "2022-02-09T14:34:59.307721Z",
          "shell.execute_reply": "2022-02-09T14:34:59.307304Z",
          "shell.execute_reply.started": "2022-02-09T14:34:59.304664Z"
        },
        "id": "xfqFSYq9wfrB",
        "tags": []
      },
      "outputs": [],
      "source": [
        "# Final Pipeline\n",
        "def final_pipeline(text):\n",
        "  cleaned_text = cp.SpacyPreprocessor(model = 'en_core_web_sm', remove_stop=True).transform(text)\n",
        "  predictions = loaded_model_sparse_embed.predict(cleaned_text)\n",
        "  return predictions"
      ]
    },
    {
      "cell_type": "code",
      "execution_count": 155,
      "metadata": {
        "execution": {
          "iopub.execute_input": "2022-02-09T14:35:00.234018Z",
          "iopub.status.busy": "2022-02-09T14:35:00.233872Z",
          "iopub.status.idle": "2022-02-09T14:35:23.682534Z",
          "shell.execute_reply": "2022-02-09T14:35:23.682039Z",
          "shell.execute_reply.started": "2022-02-09T14:35:00.234004Z"
        },
        "id": "A431Wqqx7iaT",
        "tags": []
      },
      "outputs": [],
      "source": [
        "# predicted values for Test data set\n",
        "y_test_pred = final_pipeline(X_test)"
      ]
    },
    {
      "cell_type": "code",
      "source": [
        "print('\\nTest set classification report:\\n\\n',classification_report(y_test, y_test_pred ))"
      ],
      "metadata": {
        "id": "ZIWVcXPh_IkK",
        "colab": {
          "base_uri": "https://localhost:8080/"
        },
        "outputId": "1f7343db-5785-48ac-d3f7-8f649053b96a"
      },
      "execution_count": 156,
      "outputs": [
        {
          "output_type": "stream",
          "name": "stdout",
          "text": [
            "\n",
            "Test set classification report:\n",
            "\n",
            "               precision    recall  f1-score   support\n",
            "\n",
            "           0       0.94      0.99      0.97       577\n",
            "           1       0.95      0.63      0.76        92\n",
            "\n",
            "    accuracy                           0.94       669\n",
            "   macro avg       0.95      0.81      0.86       669\n",
            "weighted avg       0.95      0.94      0.94       669\n",
            "\n"
          ]
        }
      ]
    },
    {
      "cell_type": "code",
      "source": [
        "print('\\n F0.5 Score: ', fbeta_score(y_test, y_test_pred, beta=0.5))"
      ],
      "metadata": {
        "id": "AXdvpIzjXVdE",
        "colab": {
          "base_uri": "https://localhost:8080/"
        },
        "outputId": "73d105e6-7d7b-4709-d6f8-396c9739a0be"
      },
      "execution_count": 157,
      "outputs": [
        {
          "output_type": "stream",
          "name": "stdout",
          "text": [
            "\n",
            " F0.5 Score:  0.863095238095238\n"
          ]
        }
      ]
    },
    {
      "cell_type": "markdown",
      "source": [
        "## Pipeline2. Data Processing + Manual Features + ML Model"
      ],
      "metadata": {
        "id": "Qbqiez9Eyqgv"
      }
    },
    {
      "cell_type": "markdown",
      "metadata": {
        "id": "CpOXLLPveyIY"
      },
      "source": [
        "In this case we will extract following features and use these as the input to our XGBoost Classification model.\n",
        "  1. number of words\n",
        "  2. number of characters\n",
        "  3. number of digits\n",
        "  6. number of numbers\n",
        "  7. number of nouns or propernouns\n",
        "  8. number of aux\n",
        "  9. number of verbs\n",
        "  10. number of adjectives\n",
        "  11. number of ner (entiites)\n",
        "  12. number of punctuation marks \n",
        "  13. number of exclamation marks\n",
        "  13. number of urls or websites\n",
        "  14. number of \"free\" words\n",
        "  15. number of \"T&C/t&c/tandc\" words\n",
        "  16. number of words followed by one or more exclamation marks\n"
      ]
    },
    {
      "cell_type": "code",
      "execution_count": 158,
      "metadata": {
        "execution": {
          "iopub.execute_input": "2022-02-16T12:29:23.557279Z",
          "iopub.status.busy": "2022-02-16T12:29:23.557123Z",
          "iopub.status.idle": "2022-02-16T12:29:23.559874Z",
          "shell.execute_reply": "2022-02-16T12:29:23.559574Z",
          "shell.execute_reply.started": "2022-02-16T12:29:23.557264Z"
        },
        "tags": [],
        "id": "QjfdHgBWeyIY"
      },
      "outputs": [],
      "source": [
        "featurizer =  ManualFeatures(spacy_model='en_core_web_sm')"
      ]
    },
    {
      "cell_type": "code",
      "execution_count": 159,
      "metadata": {
        "execution": {
          "iopub.execute_input": "2022-02-16T12:30:27.608625Z",
          "iopub.status.busy": "2022-02-16T12:30:27.608467Z",
          "iopub.status.idle": "2022-02-16T12:31:01.355575Z",
          "shell.execute_reply": "2022-02-16T12:31:01.354881Z",
          "shell.execute_reply.started": "2022-02-16T12:30:27.608598Z"
        },
        "tags": [],
        "id": "-8UuG6kbeyIZ"
      },
      "outputs": [],
      "source": [
        "X_train_features, feature_names  = featurizer.fit_transform(X_train)"
      ]
    },
    {
      "cell_type": "code",
      "execution_count": 160,
      "metadata": {
        "execution": {
          "iopub.execute_input": "2022-02-16T12:31:01.357349Z",
          "iopub.status.busy": "2022-02-16T12:31:01.357127Z",
          "iopub.status.idle": "2022-02-16T12:31:01.362547Z",
          "shell.execute_reply": "2022-02-16T12:31:01.362159Z",
          "shell.execute_reply.started": "2022-02-16T12:31:01.357320Z"
        },
        "tags": [],
        "id": "Z_y1x12SeyIZ",
        "colab": {
          "base_uri": "https://localhost:8080/"
        },
        "outputId": "db62d703-6137-431a-b1c7-e18b2b9d1af7"
      },
      "outputs": [
        {
          "output_type": "execute_result",
          "data": {
            "text/plain": [
              "array([[ 49, 230,   0,   0,   2,  16,   2,   6,   3,   6,   0,   0,   0,\n",
              "          0,   0],\n",
              "       [ 20,  81,   0,   0,   0,   5,   1,   3,   0,   4,   0,   1,   0,\n",
              "          0,   0],\n",
              "       [ 12,  55,   0,   0,   0,   4,   0,   2,   0,   2,   0,   0,   0,\n",
              "          0,   0]])"
            ]
          },
          "metadata": {},
          "execution_count": 160
        }
      ],
      "source": [
        "X_train_features[0:3]"
      ]
    },
    {
      "cell_type": "code",
      "execution_count": 161,
      "metadata": {
        "execution": {
          "iopub.execute_input": "2022-02-16T12:31:17.231993Z",
          "iopub.status.busy": "2022-02-16T12:31:17.231836Z",
          "iopub.status.idle": "2022-02-16T12:31:17.235203Z",
          "shell.execute_reply": "2022-02-16T12:31:17.234851Z",
          "shell.execute_reply.started": "2022-02-16T12:31:17.231979Z"
        },
        "id": "_ReRfrjieyIZ",
        "colab": {
          "base_uri": "https://localhost:8080/"
        },
        "outputId": "3c35a1b2-3983-4ef4-c2fe-47f8da094b6f"
      },
      "outputs": [
        {
          "output_type": "execute_result",
          "data": {
            "text/plain": [
              "['count_words',\n",
              " 'count_characters',\n",
              " 'count_digits',\n",
              " 'count_numbers',\n",
              " 'noun_count',\n",
              " 'aux_count',\n",
              " 'verb_count',\n",
              " 'adj_count',\n",
              " 'ner',\n",
              " 'punct_count',\n",
              " 'url_count',\n",
              " 'exclam_count',\n",
              " 'free_count',\n",
              " 'tc_count',\n",
              " 'wordexcl_count']"
            ]
          },
          "metadata": {},
          "execution_count": 161
        }
      ],
      "source": [
        "feature_names "
      ]
    },
    {
      "cell_type": "markdown",
      "metadata": {
        "id": "ehkzZ8oNIh0O"
      },
      "source": [
        "#### Create Pipeline"
      ]
    },
    {
      "cell_type": "code",
      "execution_count": 162,
      "metadata": {
        "execution": {
          "iopub.execute_input": "2022-02-16T12:31:27.013648Z",
          "iopub.status.busy": "2022-02-16T12:31:27.013492Z",
          "iopub.status.idle": "2022-02-16T12:31:27.016483Z",
          "shell.execute_reply": "2022-02-16T12:31:27.016106Z",
          "shell.execute_reply.started": "2022-02-16T12:31:27.013634Z"
        },
        "tags": [],
        "id": "_OWcl74BeyIa"
      },
      "outputs": [],
      "source": [
        "classifier_1b = Pipeline([('classifier', XGBClassifier()),])"
      ]
    },
    {
      "cell_type": "markdown",
      "metadata": {
        "id": "ynZ1wjpXeyIb"
      },
      "source": [
        "#### Parameter Grid"
      ]
    },
    {
      "cell_type": "code",
      "execution_count": 163,
      "metadata": {
        "execution": {
          "iopub.execute_input": "2022-02-16T12:31:39.899888Z",
          "iopub.status.busy": "2022-02-16T12:31:39.899747Z",
          "iopub.status.idle": "2022-02-16T12:31:39.902327Z",
          "shell.execute_reply": "2022-02-16T12:31:39.901959Z",
          "shell.execute_reply.started": "2022-02-16T12:31:39.899875Z"
        },
        "tags": [],
        "id": "BiZ4c7W_eyIb"
      },
      "outputs": [],
      "source": [
        "param_grid_classifier_1b = {'classifier__weights': [1, 10, 25, 50, 75, 99, 100, 1000],\n",
        "                            'classifier__learning_rate': [0.1, 0.5, 1],}"
      ]
    },
    {
      "cell_type": "markdown",
      "metadata": {
        "execution": {
          "iopub.execute_input": "2022-02-14T23:23:08.590947Z",
          "iopub.status.busy": "2022-02-14T23:23:08.590808Z",
          "iopub.status.idle": "2022-02-14T23:23:08.593523Z",
          "shell.execute_reply": "2022-02-14T23:23:08.593065Z",
          "shell.execute_reply.started": "2022-02-14T23:23:08.590934Z"
        },
        "id": "MSTiGX81eyIb"
      },
      "source": [
        "#### Apply GridSearch"
      ]
    },
    {
      "cell_type": "code",
      "execution_count": 164,
      "metadata": {
        "execution": {
          "iopub.execute_input": "2022-02-16T12:31:46.350193Z",
          "iopub.status.busy": "2022-02-16T12:31:46.349854Z",
          "iopub.status.idle": "2022-02-16T12:31:46.352754Z",
          "shell.execute_reply": "2022-02-16T12:31:46.352471Z",
          "shell.execute_reply.started": "2022-02-16T12:31:46.350178Z"
        },
        "tags": [],
        "id": "rJXfpq7ReyI1"
      },
      "outputs": [],
      "source": [
        "grid_classifier_1b = RandomizedSearchCV(classifier_1b, param_grid_classifier_1b,scoring=make_scorer(fbeta_score, beta=0.5), random_state=0, cv = 3,return_train_score=True, error_score='raise')"
      ]
    },
    {
      "cell_type": "code",
      "execution_count": 165,
      "metadata": {
        "execution": {
          "iopub.execute_input": "2022-02-16T12:31:47.743096Z",
          "iopub.status.busy": "2022-02-16T12:31:47.742613Z",
          "iopub.status.idle": "2022-02-16T12:31:48.494211Z",
          "shell.execute_reply": "2022-02-16T12:31:48.493924Z",
          "shell.execute_reply.started": "2022-02-16T12:31:47.743081Z"
        },
        "tags": [],
        "id": "aq2nOz53eyI2",
        "colab": {
          "base_uri": "https://localhost:8080/"
        },
        "outputId": "5470a7dc-5432-4784-858c-a935d7d81b48"
      },
      "outputs": [
        {
          "output_type": "execute_result",
          "data": {
            "text/plain": [
              "RandomizedSearchCV(cv=3, error_score='raise',\n",
              "                   estimator=Pipeline(steps=[('classifier', XGBClassifier())]),\n",
              "                   param_distributions={'classifier__learning_rate': [0.1, 0.5,\n",
              "                                                                      1],\n",
              "                                        'classifier__weights': [1, 10, 25, 50,\n",
              "                                                                75, 99, 100,\n",
              "                                                                1000]},\n",
              "                   random_state=0, return_train_score=True,\n",
              "                   scoring=make_scorer(fbeta_score, beta=0.5))"
            ]
          },
          "metadata": {},
          "execution_count": 165
        }
      ],
      "source": [
        "# Fit the model on training data\n",
        "grid_classifier_1b.fit(X_train_features, y_train)"
      ]
    },
    {
      "cell_type": "code",
      "execution_count": 166,
      "metadata": {
        "execution": {
          "iopub.execute_input": "2022-02-16T12:31:52.439776Z",
          "iopub.status.busy": "2022-02-16T12:31:52.439650Z",
          "iopub.status.idle": "2022-02-16T12:31:52.443134Z",
          "shell.execute_reply": "2022-02-16T12:31:52.442728Z",
          "shell.execute_reply.started": "2022-02-16T12:31:52.439763Z"
        },
        "tags": [],
        "id": "pOJoghGGeyI3",
        "colab": {
          "base_uri": "https://localhost:8080/"
        },
        "outputId": "64824983-4917-4321-ff21-a138b429d893"
      },
      "outputs": [
        {
          "output_type": "stream",
          "name": "stdout",
          "text": [
            "Best cross-validation score: 0.91\n",
            "\n",
            "Best parameters:  {'classifier__weights': 10, 'classifier__learning_rate': 0.1}\n",
            "\n",
            "Best estimator:  Pipeline(steps=[('classifier', XGBClassifier(weights=10))])\n"
          ]
        }
      ],
      "source": [
        "print(\"Best cross-validation score: {:.2f}\".format(grid_classifier_1b.best_score_))\n",
        "print(\"\\nBest parameters: \", grid_classifier_1b.best_params_)\n",
        "print(\"\\nBest estimator: \", grid_classifier_1b.best_estimator_)"
      ]
    },
    {
      "cell_type": "code",
      "execution_count": 167,
      "metadata": {
        "execution": {
          "iopub.execute_input": "2022-02-16T12:32:03.508881Z",
          "iopub.status.busy": "2022-02-16T12:32:03.508367Z",
          "iopub.status.idle": "2022-02-16T12:32:03.511015Z",
          "shell.execute_reply": "2022-02-16T12:32:03.510644Z",
          "shell.execute_reply.started": "2022-02-16T12:32:03.508866Z"
        },
        "tags": [],
        "id": "grxFr0vgeyI3"
      },
      "outputs": [],
      "source": [
        "file_model_features = model_folder / 'features_model.pkl'"
      ]
    },
    {
      "cell_type": "code",
      "execution_count": 168,
      "metadata": {
        "execution": {
          "iopub.execute_input": "2022-02-16T12:32:05.308475Z",
          "iopub.status.busy": "2022-02-16T12:32:05.308334Z",
          "iopub.status.idle": "2022-02-16T12:32:05.312549Z",
          "shell.execute_reply": "2022-02-16T12:32:05.312150Z",
          "shell.execute_reply.started": "2022-02-16T12:32:05.308462Z"
        },
        "tags": [],
        "id": "xxa1xXdSeyI4",
        "colab": {
          "base_uri": "https://localhost:8080/"
        },
        "outputId": "42635f01-4c3f-437f-898f-74575dcd0b29"
      },
      "outputs": [
        {
          "output_type": "execute_result",
          "data": {
            "text/plain": [
              "['/content/drive/MyDrive/Colab Notebooks/Models/features_model.pkl']"
            ]
          },
          "metadata": {},
          "execution_count": 168
        }
      ],
      "source": [
        "joblib.dump(grid_classifier_1b.best_estimator_, file_model_features)"
      ]
    },
    {
      "cell_type": "code",
      "execution_count": 169,
      "metadata": {
        "execution": {
          "iopub.execute_input": "2022-02-16T12:32:10.718696Z",
          "iopub.status.busy": "2022-02-16T12:32:10.718552Z",
          "iopub.status.idle": "2022-02-16T12:32:10.722010Z",
          "shell.execute_reply": "2022-02-16T12:32:10.721442Z",
          "shell.execute_reply.started": "2022-02-16T12:32:10.718684Z"
        },
        "tags": [],
        "id": "RGnVBWmEeyI5"
      },
      "outputs": [],
      "source": [
        "# load the saved model\n",
        "loaded_final_model_features = joblib.load(file_model_features)"
      ]
    },
    {
      "cell_type": "code",
      "execution_count": 170,
      "metadata": {
        "execution": {
          "iopub.execute_input": "2022-02-16T12:32:16.141496Z",
          "iopub.status.busy": "2022-02-16T12:32:16.141340Z",
          "iopub.status.idle": "2022-02-16T12:32:17.974174Z",
          "shell.execute_reply": "2022-02-16T12:32:17.973753Z",
          "shell.execute_reply.started": "2022-02-16T12:32:16.141483Z"
        },
        "tags": [],
        "id": "7kORJeozeyI5",
        "colab": {
          "base_uri": "https://localhost:8080/",
          "height": 368
        },
        "outputId": "056c382f-b970-4226-9218-f8b5432ade66"
      },
      "outputs": [
        {
          "output_type": "execute_result",
          "data": {
            "text/plain": [
              "<module 'matplotlib.pyplot' from '/usr/local/lib/python3.7/dist-packages/matplotlib/pyplot.py'>"
            ]
          },
          "metadata": {},
          "execution_count": 170
        },
        {
          "output_type": "display_data",
          "data": {
            "text/plain": [
              "<Figure size 1440x360 with 3 Axes>"
            ],
            "image/png": "[encoded data removed]"
          },
          "metadata": {
            "needs_background": "light"
          }
        }
      ],
      "source": [
        "# plot learning curves for f0.5 score\n",
        "plot_learning_curve(loaded_final_model_features, 'Learning Curves classifier_1b', X_train_features, y_train)"
      ]
    },
    {
      "cell_type": "markdown",
      "metadata": {
        "id": "cl9DUxzKeyI7"
      },
      "source": [
        "#### Evaluate model on test datset"
      ]
    },
    {
      "cell_type": "code",
      "execution_count": 171,
      "metadata": {
        "execution": {
          "iopub.execute_input": "2022-02-16T12:33:02.552122Z",
          "iopub.status.busy": "2022-02-16T12:33:02.551731Z",
          "iopub.status.idle": "2022-02-16T12:33:02.554273Z",
          "shell.execute_reply": "2022-02-16T12:33:02.553801Z",
          "shell.execute_reply.started": "2022-02-16T12:33:02.552107Z"
        },
        "tags": [],
        "id": "nKN9xTpjeyI8"
      },
      "outputs": [],
      "source": [
        "# Final Pipeline\n",
        "def final_pipeline(text):\n",
        "  test_features, feature_names = featurizer.fit_transform(X_test)\n",
        "  predictions = loaded_final_model_features.predict(test_features)\n",
        "  return predictions"
      ]
    },
    {
      "cell_type": "code",
      "execution_count": 172,
      "metadata": {
        "execution": {
          "iopub.execute_input": "2022-02-16T12:33:05.280602Z",
          "iopub.status.busy": "2022-02-16T12:33:05.280336Z",
          "iopub.status.idle": "2022-02-16T12:33:39.702231Z",
          "shell.execute_reply": "2022-02-16T12:33:39.701397Z",
          "shell.execute_reply.started": "2022-02-16T12:33:05.280586Z"
        },
        "tags": [],
        "id": "wdPFuTzZeyI8"
      },
      "outputs": [],
      "source": [
        "# predicted values for Test data set\n",
        "y_test_pred = final_pipeline(X_test)"
      ]
    },
    {
      "cell_type": "code",
      "execution_count": 173,
      "metadata": {
        "execution": {
          "iopub.execute_input": "2022-02-16T12:33:43.326575Z",
          "iopub.status.busy": "2022-02-16T12:33:43.326244Z",
          "iopub.status.idle": "2022-02-16T12:33:43.334311Z",
          "shell.execute_reply": "2022-02-16T12:33:43.333922Z",
          "shell.execute_reply.started": "2022-02-16T12:33:43.326559Z"
        },
        "tags": [],
        "id": "6mU_HRuJeyI-",
        "colab": {
          "base_uri": "https://localhost:8080/"
        },
        "outputId": "cc8fdaa6-b6b6-436a-8b6b-4292e2046226"
      },
      "outputs": [
        {
          "output_type": "stream",
          "name": "stdout",
          "text": [
            "\n",
            "Test set classification report:\n",
            "\n",
            "               precision    recall  f1-score   support\n",
            "\n",
            "           0       0.98      0.99      0.99       577\n",
            "           1       0.94      0.88      0.91        92\n",
            "\n",
            "    accuracy                           0.98       669\n",
            "   macro avg       0.96      0.94      0.95       669\n",
            "weighted avg       0.98      0.98      0.98       669\n",
            "\n"
          ]
        }
      ],
      "source": [
        "print('\\nTest set classification report:\\n\\n',classification_report(y_test, y_test_pred))"
      ]
    },
    {
      "cell_type": "code",
      "source": [
        "print('\\nF0.5 Score: ', fbeta_score(y_test, y_test_pred, beta=0.5))"
      ],
      "metadata": {
        "id": "6N-9W3U19Hy2",
        "colab": {
          "base_uri": "https://localhost:8080/"
        },
        "outputId": "806f9b1e-2611-4226-808e-84e6814b1c92"
      },
      "execution_count": 174,
      "outputs": [
        {
          "output_type": "stream",
          "name": "stdout",
          "text": [
            "\n",
            "F0.5 Score:  0.9288990825688073\n"
          ]
        }
      ]
    },
    {
      "cell_type": "markdown",
      "source": [
        "## Pipeline3: Data Processing + Combine Manual Features and TfID vectors + ML Model (6 Points) ##"
      ],
      "metadata": {
        "id": "1DN75UDeyybn"
      }
    },
    {
      "cell_type": "code",
      "execution_count": 175,
      "metadata": {
        "execution": {
          "iopub.execute_input": "2022-02-16T12:33:50.766675Z",
          "iopub.status.busy": "2022-02-16T12:33:50.766153Z",
          "iopub.status.idle": "2022-02-16T12:34:15.156252Z",
          "shell.execute_reply": "2022-02-16T12:34:15.155753Z",
          "shell.execute_reply.started": "2022-02-16T12:33:50.766633Z"
        },
        "tags": [],
        "id": "pJ7XSd9_eyI_"
      },
      "outputs": [],
      "source": [
        "X_train_cleaned = cp.SpacyPreprocessor(model = 'en_core_web_sm', remove_stop=True).transform(X_train)"
      ]
    },
    {
      "cell_type": "code",
      "execution_count": 176,
      "metadata": {
        "execution": {
          "iopub.execute_input": "2022-02-16T12:34:36.966518Z",
          "iopub.status.busy": "2022-02-16T12:34:36.966169Z",
          "iopub.status.idle": "2022-02-16T12:34:36.968755Z",
          "shell.execute_reply": "2022-02-16T12:34:36.968339Z",
          "shell.execute_reply.started": "2022-02-16T12:34:36.966502Z"
        },
        "tags": [],
        "id": "wNcH2MFSeyI_"
      },
      "outputs": [],
      "source": [
        "featurizer =  ManualFeatures(spacy_model='en_core_web_sm')"
      ]
    },
    {
      "cell_type": "code",
      "execution_count": 177,
      "metadata": {
        "execution": {
          "iopub.execute_input": "2022-02-16T12:34:37.850617Z",
          "iopub.status.busy": "2022-02-16T12:34:37.850475Z",
          "iopub.status.idle": "2022-02-16T12:35:11.427157Z",
          "shell.execute_reply": "2022-02-16T12:35:11.426401Z",
          "shell.execute_reply.started": "2022-02-16T12:34:37.850605Z"
        },
        "tags": [],
        "id": "U12fU0DfeyJA"
      },
      "outputs": [],
      "source": [
        "X_train_features, feature_names  = featurizer.fit_transform(X_train)"
      ]
    },
    {
      "cell_type": "code",
      "execution_count": 178,
      "metadata": {
        "execution": {
          "iopub.execute_input": "2022-02-16T12:35:11.430371Z",
          "iopub.status.busy": "2022-02-16T12:35:11.428776Z",
          "iopub.status.idle": "2022-02-16T12:35:11.436956Z",
          "shell.execute_reply": "2022-02-16T12:35:11.436558Z",
          "shell.execute_reply.started": "2022-02-16T12:35:11.430339Z"
        },
        "tags": [],
        "id": "_dYgveyIeyJA"
      },
      "outputs": [],
      "source": [
        "X_train_final = pd.concat((pd.DataFrame(X_train_cleaned, columns = ['cleaned_text']),\n",
        "                           pd.DataFrame(X_train_features, columns = feature_names)),axis =1)"
      ]
    },
    {
      "cell_type": "code",
      "execution_count": 179,
      "metadata": {
        "execution": {
          "iopub.execute_input": "2022-02-16T12:35:11.437698Z",
          "iopub.status.busy": "2022-02-16T12:35:11.437552Z",
          "iopub.status.idle": "2022-02-16T12:35:11.450031Z",
          "shell.execute_reply": "2022-02-16T12:35:11.449680Z",
          "shell.execute_reply.started": "2022-02-16T12:35:11.437669Z"
        },
        "tags": [],
        "id": "mDfvQmxieyJB",
        "colab": {
          "base_uri": "https://localhost:8080/",
          "height": 444
        },
        "outputId": "4d1a52a4-20d6-403f-9b1d-57655df1c363"
      },
      "outputs": [
        {
          "output_type": "execute_result",
          "data": {
            "text/plain": [
              "                                        cleaned_text  count_words  \\\n",
              "0  thank reply today ur visa come r u buy gucci b...           49   \n",
              "1                 find diff farm shop buy cheese way           20   \n",
              "2                    hey gal u go e drive centre tmr           12   \n",
              "3  oh unintentionally bad timing great finger   t...           16   \n",
              "4                                   time tell friend           10   \n",
              "\n",
              "   count_characters  count_digits  count_numbers  noun_count  aux_count  \\\n",
              "0               230             0              0           2         16   \n",
              "1                81             0              0           0          5   \n",
              "2                55             0              0           0          4   \n",
              "3               101             0              0           1          5   \n",
              "4                46             0              0           0          2   \n",
              "\n",
              "   verb_count  adj_count  ner  punct_count  url_count  exclam_count  \\\n",
              "0           2          6    3            6          0             0   \n",
              "1           1          3    0            4          0             1   \n",
              "2           0          2    0            2          0             0   \n",
              "3           1          2    2            4          0             1   \n",
              "4           2          1    0            1          0             0   \n",
              "\n",
              "   free_count  tc_count  wordexcl_count  \n",
              "0           0         0               0  \n",
              "1           0         0               0  \n",
              "2           0         0               0  \n",
              "3           0         0               0  \n",
              "4           0         0               0  "
            ],
            "text/html": [
              "\n",
              "  <div id=\"df-bfb3982b-c711-4b4d-a321-1b152cab30bf\">\n",
              "    <div class=\"colab-df-container\">\n",
              "      <div>\n",
              "<style scoped>\n",
              "    .dataframe tbody tr th:only-of-type {\n",
              "        vertical-align: middle;\n",
              "    }\n",
              "\n",
              "    .dataframe tbody tr th {\n",
              "        vertical-align: top;\n",
              "    }\n",
              "\n",
              "    .dataframe thead th {\n",
              "        text-align: right;\n",
              "    }\n",
              "</style>\n",
              "<table border=\"1\" class=\"dataframe\">\n",
              "  <thead>\n",
              "    <tr style=\"text-align: right;\">\n",
              "      <th></th>\n",
              "      <th>cleaned_text</th>\n",
              "      <th>count_words</th>\n",
              "      <th>count_characters</th>\n",
              "      <th>count_digits</th>\n",
              "      <th>count_numbers</th>\n",
              "      <th>noun_count</th>\n",
              "      <th>aux_count</th>\n",
              "      <th>verb_count</th>\n",
              "      <th>adj_count</th>\n",
              "      <th>ner</th>\n",
              "      <th>punct_count</th>\n",
              "      <th>url_count</th>\n",
              "      <th>exclam_count</th>\n",
              "      <th>free_count</th>\n",
              "      <th>tc_count</th>\n",
              "      <th>wordexcl_count</th>\n",
              "    </tr>\n",
              "  </thead>\n",
              "  <tbody>\n",
              "    <tr>\n",
              "      <th>0</th>\n",
              "      <td>thank reply today ur visa come r u buy gucci b...</td>\n",
              "      <td>49</td>\n",
              "      <td>230</td>\n",
              "      <td>0</td>\n",
              "      <td>0</td>\n",
              "      <td>2</td>\n",
              "      <td>16</td>\n",
              "      <td>2</td>\n",
              "      <td>6</td>\n",
              "      <td>3</td>\n",
              "      <td>6</td>\n",
              "      <td>0</td>\n",
              "      <td>0</td>\n",
              "      <td>0</td>\n",
              "      <td>0</td>\n",
              "      <td>0</td>\n",
              "    </tr>\n",
              "    <tr>\n",
              "      <th>1</th>\n",
              "      <td>find diff farm shop buy cheese way</td>\n",
              "      <td>20</td>\n",
              "      <td>81</td>\n",
              "      <td>0</td>\n",
              "      <td>0</td>\n",
              "      <td>0</td>\n",
              "      <td>5</td>\n",
              "      <td>1</td>\n",
              "      <td>3</td>\n",
              "      <td>0</td>\n",
              "      <td>4</td>\n",
              "      <td>0</td>\n",
              "      <td>1</td>\n",
              "      <td>0</td>\n",
              "      <td>0</td>\n",
              "      <td>0</td>\n",
              "    </tr>\n",
              "    <tr>\n",
              "      <th>2</th>\n",
              "      <td>hey gal u go e drive centre tmr</td>\n",
              "      <td>12</td>\n",
              "      <td>55</td>\n",
              "      <td>0</td>\n",
              "      <td>0</td>\n",
              "      <td>0</td>\n",
              "      <td>4</td>\n",
              "      <td>0</td>\n",
              "      <td>2</td>\n",
              "      <td>0</td>\n",
              "      <td>2</td>\n",
              "      <td>0</td>\n",
              "      <td>0</td>\n",
              "      <td>0</td>\n",
              "      <td>0</td>\n",
              "      <td>0</td>\n",
              "    </tr>\n",
              "    <tr>\n",
              "      <th>3</th>\n",
              "      <td>oh unintentionally bad timing great finger   t...</td>\n",
              "      <td>16</td>\n",
              "      <td>101</td>\n",
              "      <td>0</td>\n",
              "      <td>0</td>\n",
              "      <td>1</td>\n",
              "      <td>5</td>\n",
              "      <td>1</td>\n",
              "      <td>2</td>\n",
              "      <td>2</td>\n",
              "      <td>4</td>\n",
              "      <td>0</td>\n",
              "      <td>1</td>\n",
              "      <td>0</td>\n",
              "      <td>0</td>\n",
              "      <td>0</td>\n",
              "    </tr>\n",
              "    <tr>\n",
              "      <th>4</th>\n",
              "      <td>time tell friend</td>\n",
              "      <td>10</td>\n",
              "      <td>46</td>\n",
              "      <td>0</td>\n",
              "      <td>0</td>\n",
              "      <td>0</td>\n",
              "      <td>2</td>\n",
              "      <td>2</td>\n",
              "      <td>1</td>\n",
              "      <td>0</td>\n",
              "      <td>1</td>\n",
              "      <td>0</td>\n",
              "      <td>0</td>\n",
              "      <td>0</td>\n",
              "      <td>0</td>\n",
              "      <td>0</td>\n",
              "    </tr>\n",
              "  </tbody>\n",
              "</table>\n",
              "</div>\n",
              "      <button class=\"colab-df-convert\" onclick=\"convertToInteractive('df-bfb3982b-c711-4b4d-a321-1b152cab30bf')\"\n",
              "              title=\"Convert this dataframe to an interactive table.\"\n",
              "              style=\"display:none;\">\n",
              "        \n",
              "  <svg xmlns=\"http://www.w3.org/2000/svg\" height=\"24px\"viewBox=\"0 0 24 24\"\n",
              "       width=\"24px\">\n",
              "    <path d=\"M0 0h24v24H0V0z\" fill=\"none\"/>\n",
              "    <path d=\"M18.56 5.44l.94 2.06.94-2.06 2.06-.94-2.06-.94-.94-2.06-.94 2.06-2.06.94zm-11 1L8.5 8.5l.94-2.06 2.06-.94-2.06-.94L8.5 2.5l-.94 2.06-2.06.94zm10 10l.94 2.06.94-2.06 2.06-.94-2.06-.94-.94-2.06-.94 2.06-2.06.94z\"/><path d=\"M17.41 7.96l-1.37-1.37c-.4-.4-.92-.59-1.43-.59-.52 0-1.04.2-1.43.59L10.3 9.45l-7.72 7.72c-.78.78-.78 2.05 0 2.83L4 21.41c.39.39.9.59 1.41.59.51 0 1.02-.2 1.41-.59l7.78-7.78 2.81-2.81c.8-.78.8-2.07 0-2.86zM5.41 20L4 18.59l7.72-7.72 1.47 1.35L5.41 20z\"/>\n",
              "  </svg>\n",
              "      </button>\n",
              "      \n",
              "  <style>\n",
              "    .colab-df-container {\n",
              "      display:flex;\n",
              "      flex-wrap:wrap;\n",
              "      gap: 12px;\n",
              "    }\n",
              "\n",
              "    .colab-df-convert {\n",
              "      background-color: #E8F0FE;\n",
              "      border: none;\n",
              "      border-radius: 50%;\n",
              "      cursor: pointer;\n",
              "      display: none;\n",
              "      fill: #1967D2;\n",
              "      height: 32px;\n",
              "      padding: 0 0 0 0;\n",
              "      width: 32px;\n",
              "    }\n",
              "\n",
              "    .colab-df-convert:hover {\n",
              "      background-color: #E2EBFA;\n",
              "      box-shadow: 0px 1px 2px rgba(60, 64, 67, 0.3), 0px 1px 3px 1px rgba(60, 64, 67, 0.15);\n",
              "      fill: #174EA6;\n",
              "    }\n",
              "\n",
              "    [theme=dark] .colab-df-convert {\n",
              "      background-color: #3B4455;\n",
              "      fill: #D2E3FC;\n",
              "    }\n",
              "\n",
              "    [theme=dark] .colab-df-convert:hover {\n",
              "      background-color: #434B5C;\n",
              "      box-shadow: 0px 1px 3px 1px rgba(0, 0, 0, 0.15);\n",
              "      filter: drop-shadow(0px 1px 2px rgba(0, 0, 0, 0.3));\n",
              "      fill: #FFFFFF;\n",
              "    }\n",
              "  </style>\n",
              "\n",
              "      <script>\n",
              "        const buttonEl =\n",
              "          document.querySelector('#df-bfb3982b-c711-4b4d-a321-1b152cab30bf button.colab-df-convert');\n",
              "        buttonEl.style.display =\n",
              "          google.colab.kernel.accessAllowed ? 'block' : 'none';\n",
              "\n",
              "        async function convertToInteractive(key) {\n",
              "          const element = document.querySelector('#df-bfb3982b-c711-4b4d-a321-1b152cab30bf');\n",
              "          const dataTable =\n",
              "            await google.colab.kernel.invokeFunction('convertToInteractive',\n",
              "                                                     [key], {});\n",
              "          if (!dataTable) return;\n",
              "\n",
              "          const docLinkHtml = 'Like what you see? Visit the ' +\n",
              "            '<a target=\"_blank\" href=https://colab.research.google.com/notebooks/data_table.ipynb>data table notebook</a>'\n",
              "            + ' to learn more about interactive tables.';\n",
              "          element.innerHTML = '';\n",
              "          dataTable['output_type'] = 'display_data';\n",
              "          await google.colab.output.renderOutput(dataTable, element);\n",
              "          const docLink = document.createElement('div');\n",
              "          docLink.innerHTML = docLinkHtml;\n",
              "          element.appendChild(docLink);\n",
              "        }\n",
              "      </script>\n",
              "    </div>\n",
              "  </div>\n",
              "  "
            ]
          },
          "metadata": {},
          "execution_count": 179
        }
      ],
      "source": [
        "X_train_final.head()"
      ]
    },
    {
      "cell_type": "code",
      "execution_count": 180,
      "metadata": {
        "execution": {
          "iopub.execute_input": "2022-02-16T12:35:34.325961Z",
          "iopub.status.busy": "2022-02-16T12:35:34.325751Z",
          "iopub.status.idle": "2022-02-16T12:35:34.334537Z",
          "shell.execute_reply": "2022-02-16T12:35:34.334192Z",
          "shell.execute_reply.started": "2022-02-16T12:35:34.325929Z"
        },
        "tags": [],
        "id": "qvKO5KB3eyJC",
        "colab": {
          "base_uri": "https://localhost:8080/"
        },
        "outputId": "b8b311e5-29e8-47fe-deb4-3aca7b1a0601"
      },
      "outputs": [
        {
          "output_type": "stream",
          "name": "stdout",
          "text": [
            "<class 'pandas.core.frame.DataFrame'>\n",
            "RangeIndex: 1560 entries, 0 to 1559\n",
            "Data columns (total 16 columns):\n",
            " #   Column            Non-Null Count  Dtype \n",
            "---  ------            --------------  ----- \n",
            " 0   cleaned_text      1560 non-null   object\n",
            " 1   count_words       1560 non-null   int64 \n",
            " 2   count_characters  1560 non-null   int64 \n",
            " 3   count_digits      1560 non-null   int64 \n",
            " 4   count_numbers     1560 non-null   int64 \n",
            " 5   noun_count        1560 non-null   int64 \n",
            " 6   aux_count         1560 non-null   int64 \n",
            " 7   verb_count        1560 non-null   int64 \n",
            " 8   adj_count         1560 non-null   int64 \n",
            " 9   ner               1560 non-null   int64 \n",
            " 10  punct_count       1560 non-null   int64 \n",
            " 11  url_count         1560 non-null   int64 \n",
            " 12  exclam_count      1560 non-null   int64 \n",
            " 13  free_count        1560 non-null   int64 \n",
            " 14  tc_count          1560 non-null   int64 \n",
            " 15  wordexcl_count    1560 non-null   int64 \n",
            "dtypes: int64(15), object(1)\n",
            "memory usage: 195.1+ KB\n"
          ]
        }
      ],
      "source": [
        "X_train_final.info()"
      ]
    },
    {
      "cell_type": "code",
      "execution_count": 181,
      "metadata": {
        "execution": {
          "iopub.execute_input": "2022-02-16T12:35:39.140082Z",
          "iopub.status.busy": "2022-02-16T12:35:39.139677Z",
          "iopub.status.idle": "2022-02-16T12:35:39.142194Z",
          "shell.execute_reply": "2022-02-16T12:35:39.141823Z",
          "shell.execute_reply.started": "2022-02-16T12:35:39.140066Z"
        },
        "tags": [],
        "id": "lEzu-SX8eyJC"
      },
      "outputs": [],
      "source": [
        "subset = X_train_final[0:10]"
      ]
    },
    {
      "cell_type": "code",
      "execution_count": 182,
      "metadata": {
        "execution": {
          "iopub.execute_input": "2022-02-16T12:35:39.819792Z",
          "iopub.status.busy": "2022-02-16T12:35:39.819667Z",
          "iopub.status.idle": "2022-02-16T12:35:39.822815Z",
          "shell.execute_reply": "2022-02-16T12:35:39.822358Z",
          "shell.execute_reply.started": "2022-02-16T12:35:39.819779Z"
        },
        "tags": [],
        "id": "zPUWhbLCeyJD",
        "colab": {
          "base_uri": "https://localhost:8080/"
        },
        "outputId": "429621f4-73e2-467d-f5ab-2dda9547d045"
      },
      "outputs": [
        {
          "output_type": "execute_result",
          "data": {
            "text/plain": [
              "(10, 16)"
            ]
          },
          "metadata": {},
          "execution_count": 182
        }
      ],
      "source": [
        "subset.shape"
      ]
    },
    {
      "cell_type": "code",
      "execution_count": 183,
      "metadata": {
        "execution": {
          "iopub.execute_input": "2022-02-16T12:36:09.987762Z",
          "iopub.status.busy": "2022-02-16T12:36:09.987620Z",
          "iopub.status.idle": "2022-02-16T12:36:09.992278Z",
          "shell.execute_reply": "2022-02-16T12:36:09.991933Z",
          "shell.execute_reply.started": "2022-02-16T12:36:09.987750Z"
        },
        "tags": [],
        "id": "aL8bIcD7eyJD"
      },
      "outputs": [],
      "source": [
        "from sklearn.base import TransformerMixin, BaseEstimator\n",
        "from scipy.sparse import csr_matrix\n",
        "class SparseTransformer(TransformerMixin, BaseEstimator):\n",
        "    \n",
        "  def __init__(self):\n",
        "    return None\n",
        "\n",
        "  def fit(self, X, y=None):\n",
        "      return self\n",
        "\n",
        "  def transform(self, X, y=None):\n",
        "      return csr_matrix(X)\n",
        " "
      ]
    },
    {
      "cell_type": "code",
      "execution_count": 184,
      "metadata": {
        "execution": {
          "iopub.execute_input": "2022-02-16T12:36:20.891515Z",
          "iopub.status.busy": "2022-02-16T12:36:20.891376Z",
          "iopub.status.idle": "2022-02-16T12:36:20.894129Z",
          "shell.execute_reply": "2022-02-16T12:36:20.893660Z",
          "shell.execute_reply.started": "2022-02-16T12:36:20.891503Z"
        },
        "tags": [],
        "id": "oUuCuIeteyJE"
      },
      "outputs": [],
      "source": [
        "sparse_features = Pipeline([('sparse', SparseTransformer()),                     \n",
        "                        ]) \n",
        "vectorizer = Pipeline([('tfidf', TfidfVectorizer(max_features=5)),                     \n",
        "                        ]) "
      ]
    },
    {
      "cell_type": "code",
      "execution_count": 185,
      "metadata": {
        "execution": {
          "iopub.execute_input": "2022-02-16T12:36:23.216440Z",
          "iopub.status.busy": "2022-02-16T12:36:23.216297Z",
          "iopub.status.idle": "2022-02-16T12:36:23.220408Z",
          "shell.execute_reply": "2022-02-16T12:36:23.220069Z",
          "shell.execute_reply.started": "2022-02-16T12:36:23.216427Z"
        },
        "tags": [],
        "id": "855DRfdyeyJE",
        "colab": {
          "base_uri": "https://localhost:8080/"
        },
        "outputId": "8b212ac3-3efc-41d7-97db-13c7c97845c2"
      },
      "outputs": [
        {
          "output_type": "execute_result",
          "data": {
            "text/plain": [
              "<10x15 sparse matrix of type '<class 'numpy.int64'>'\n",
              "\twith 78 stored elements in Compressed Sparse Row format>"
            ]
          },
          "metadata": {},
          "execution_count": 185
        }
      ],
      "source": [
        "sparse_features.fit_transform(subset.iloc[:,1:])"
      ]
    },
    {
      "cell_type": "code",
      "execution_count": 186,
      "metadata": {
        "execution": {
          "iopub.execute_input": "2022-02-16T12:36:25.751644Z",
          "iopub.status.busy": "2022-02-16T12:36:25.751494Z",
          "iopub.status.idle": "2022-02-16T12:36:25.758415Z",
          "shell.execute_reply": "2022-02-16T12:36:25.758046Z",
          "shell.execute_reply.started": "2022-02-16T12:36:25.751631Z"
        },
        "tags": [],
        "id": "B5Vl7rvAeyJF",
        "colab": {
          "base_uri": "https://localhost:8080/"
        },
        "outputId": "f4994d7c-c6a9-4b1e-fbfb-a9bac3e16618"
      },
      "outputs": [
        {
          "output_type": "execute_result",
          "data": {
            "text/plain": [
              "<10x5 sparse matrix of type '<class 'numpy.float64'>'\n",
              "\twith 9 stored elements in Compressed Sparse Row format>"
            ]
          },
          "metadata": {},
          "execution_count": 186
        }
      ],
      "source": [
        "vectorizer.fit_transform(subset.iloc[:,0])"
      ]
    },
    {
      "cell_type": "code",
      "execution_count": 187,
      "metadata": {
        "execution": {
          "iopub.execute_input": "2022-02-16T12:36:40.573676Z",
          "iopub.status.busy": "2022-02-16T12:36:40.573520Z",
          "iopub.status.idle": "2022-02-16T12:36:40.576128Z",
          "shell.execute_reply": "2022-02-16T12:36:40.575750Z",
          "shell.execute_reply.started": "2022-02-16T12:36:40.573663Z"
        },
        "tags": [],
        "id": "TUFXMau6eyJF"
      },
      "outputs": [],
      "source": [
        "combined_features = ColumnTransformer(\n",
        " transformers=[\n",
        "     ('tfidf', vectorizer, 'cleaned_text'),\n",
        "      ], remainder=sparse_features\n",
        "     )"
      ]
    },
    {
      "cell_type": "code",
      "execution_count": 188,
      "metadata": {
        "execution": {
          "iopub.execute_input": "2022-02-16T12:36:42.822241Z",
          "iopub.status.busy": "2022-02-16T12:36:42.822087Z",
          "iopub.status.idle": "2022-02-16T12:36:42.828916Z",
          "shell.execute_reply": "2022-02-16T12:36:42.828650Z",
          "shell.execute_reply.started": "2022-02-16T12:36:42.822229Z"
        },
        "tags": [],
        "id": "I3_LPNPdeyJG"
      },
      "outputs": [],
      "source": [
        "test = combined_features.fit_transform(subset)"
      ]
    },
    {
      "cell_type": "code",
      "execution_count": 189,
      "metadata": {
        "execution": {
          "iopub.execute_input": "2022-02-16T12:36:43.514612Z",
          "iopub.status.busy": "2022-02-16T12:36:43.514485Z",
          "iopub.status.idle": "2022-02-16T12:36:43.517888Z",
          "shell.execute_reply": "2022-02-16T12:36:43.517629Z",
          "shell.execute_reply.started": "2022-02-16T12:36:43.514598Z"
        },
        "tags": [],
        "id": "VNEIoWQMeyJG",
        "colab": {
          "base_uri": "https://localhost:8080/"
        },
        "outputId": "2382809e-0b84-4c74-99d7-f94ccabdef0b"
      },
      "outputs": [
        {
          "output_type": "execute_result",
          "data": {
            "text/plain": [
              "dtype('float64')"
            ]
          },
          "metadata": {},
          "execution_count": 189
        }
      ],
      "source": [
        "test.dtype"
      ]
    },
    {
      "cell_type": "markdown",
      "metadata": {
        "id": "Qi9q__1ReyJH"
      },
      "source": [
        "#### Create Pipeline"
      ]
    },
    {
      "cell_type": "code",
      "execution_count": 190,
      "metadata": {
        "execution": {
          "iopub.execute_input": "2022-02-16T12:36:51.450580Z",
          "iopub.status.busy": "2022-02-16T12:36:51.450409Z",
          "iopub.status.idle": "2022-02-16T12:36:51.453041Z",
          "shell.execute_reply": "2022-02-16T12:36:51.452706Z",
          "shell.execute_reply.started": "2022-02-16T12:36:51.450554Z"
        },
        "tags": [],
        "id": "IE1AZR7zeyJH"
      },
      "outputs": [],
      "source": [
        "classifier_1c = Pipeline([('combined_features',  combined_features),\n",
        "                         ('classifier', XGBClassifier()), ])"
      ]
    },
    {
      "cell_type": "code",
      "execution_count": 191,
      "metadata": {
        "execution": {
          "iopub.execute_input": "2022-02-16T12:36:57.180203Z",
          "iopub.status.busy": "2022-02-16T12:36:57.180060Z",
          "iopub.status.idle": "2022-02-16T12:36:57.184183Z",
          "shell.execute_reply": "2022-02-16T12:36:57.183831Z",
          "shell.execute_reply.started": "2022-02-16T12:36:57.180190Z"
        },
        "tags": [],
        "id": "8a9YTOPmeyJI",
        "colab": {
          "base_uri": "https://localhost:8080/"
        },
        "outputId": "ab9a280a-b48e-4d64-dcc8-e68e519e1834"
      },
      "outputs": [
        {
          "output_type": "execute_result",
          "data": {
            "text/plain": [
              "dict_keys(['memory', 'steps', 'verbose', 'combined_features', 'classifier', 'combined_features__n_jobs', 'combined_features__remainder__memory', 'combined_features__remainder__steps', 'combined_features__remainder__verbose', 'combined_features__remainder__sparse', 'combined_features__remainder', 'combined_features__sparse_threshold', 'combined_features__transformer_weights', 'combined_features__transformers', 'combined_features__verbose', 'combined_features__verbose_feature_names_out', 'combined_features__tfidf', 'combined_features__tfidf__memory', 'combined_features__tfidf__steps', 'combined_features__tfidf__verbose', 'combined_features__tfidf__tfidf', 'combined_features__tfidf__tfidf__analyzer', 'combined_features__tfidf__tfidf__binary', 'combined_features__tfidf__tfidf__decode_error', 'combined_features__tfidf__tfidf__dtype', 'combined_features__tfidf__tfidf__encoding', 'combined_features__tfidf__tfidf__input', 'combined_features__tfidf__tfidf__lowercase', 'combined_features__tfidf__tfidf__max_df', 'combined_features__tfidf__tfidf__max_features', 'combined_features__tfidf__tfidf__min_df', 'combined_features__tfidf__tfidf__ngram_range', 'combined_features__tfidf__tfidf__norm', 'combined_features__tfidf__tfidf__preprocessor', 'combined_features__tfidf__tfidf__smooth_idf', 'combined_features__tfidf__tfidf__stop_words', 'combined_features__tfidf__tfidf__strip_accents', 'combined_features__tfidf__tfidf__sublinear_tf', 'combined_features__tfidf__tfidf__token_pattern', 'combined_features__tfidf__tfidf__tokenizer', 'combined_features__tfidf__tfidf__use_idf', 'combined_features__tfidf__tfidf__vocabulary', 'classifier__base_score', 'classifier__booster', 'classifier__colsample_bylevel', 'classifier__colsample_bynode', 'classifier__colsample_bytree', 'classifier__gamma', 'classifier__learning_rate', 'classifier__max_delta_step', 'classifier__max_depth', 'classifier__min_child_weight', 'classifier__missing', 'classifier__n_estimators', 'classifier__n_jobs', 'classifier__nthread', 'classifier__objective', 'classifier__random_state', 'classifier__reg_alpha', 'classifier__reg_lambda', 'classifier__scale_pos_weight', 'classifier__seed', 'classifier__silent', 'classifier__subsample', 'classifier__verbosity'])"
            ]
          },
          "metadata": {},
          "execution_count": 191
        }
      ],
      "source": [
        "classifier_1c.get_params().keys()"
      ]
    },
    {
      "cell_type": "markdown",
      "metadata": {
        "id": "jZCCfO-oeyJJ"
      },
      "source": [
        "#### Parameter Grid"
      ]
    },
    {
      "cell_type": "code",
      "execution_count": 192,
      "metadata": {
        "execution": {
          "iopub.execute_input": "2022-02-16T12:37:14.911811Z",
          "iopub.status.busy": "2022-02-16T12:37:14.911348Z",
          "iopub.status.idle": "2022-02-16T12:37:14.914079Z",
          "shell.execute_reply": "2022-02-16T12:37:14.913746Z",
          "shell.execute_reply.started": "2022-02-16T12:37:14.911796Z"
        },
        "tags": [],
        "id": "Q_COGXBqeyJJ"
      },
      "outputs": [],
      "source": [
        "param_grid_classifier_1c = {'combined_features__tfidf__tfidf__max_features': [500, 1000, 2000],\n",
        "                            'classifier__weights': [1, 10, 25, 50, 75, 99, 100, 1000],\n",
        "                            'classifier__learning_rate': np.linspace(0.01,1,10)}"
      ]
    },
    {
      "cell_type": "markdown",
      "metadata": {
        "execution": {
          "iopub.execute_input": "2022-02-14T23:23:08.590947Z",
          "iopub.status.busy": "2022-02-14T23:23:08.590808Z",
          "iopub.status.idle": "2022-02-14T23:23:08.593523Z",
          "shell.execute_reply": "2022-02-14T23:23:08.593065Z",
          "shell.execute_reply.started": "2022-02-14T23:23:08.590934Z"
        },
        "id": "gLIu9vb-eyJK"
      },
      "source": [
        "#### Apply GridSearch"
      ]
    },
    {
      "cell_type": "code",
      "execution_count": 193,
      "metadata": {
        "execution": {
          "iopub.execute_input": "2022-02-16T12:37:19.741065Z",
          "iopub.status.busy": "2022-02-16T12:37:19.740922Z",
          "iopub.status.idle": "2022-02-16T12:37:19.743866Z",
          "shell.execute_reply": "2022-02-16T12:37:19.743469Z",
          "shell.execute_reply.started": "2022-02-16T12:37:19.741053Z"
        },
        "tags": [],
        "id": "drFmUFuleyJK"
      },
      "outputs": [],
      "source": [
        "grid_classifier_1c = RandomizedSearchCV(classifier_1c, param_grid_classifier_1c,scoring=make_scorer(fbeta_score, beta=0.5), random_state=0, cv = 3,return_train_score=True, error_score='raise')"
      ]
    },
    {
      "cell_type": "code",
      "execution_count": 194,
      "metadata": {
        "execution": {
          "iopub.execute_input": "2022-02-16T12:37:30.346423Z",
          "iopub.status.busy": "2022-02-16T12:37:30.346278Z",
          "iopub.status.idle": "2022-02-16T12:38:07.206283Z",
          "shell.execute_reply": "2022-02-16T12:38:07.205848Z",
          "shell.execute_reply.started": "2022-02-16T12:37:30.346410Z"
        },
        "tags": [],
        "id": "T4_4EJtKeyJK",
        "colab": {
          "base_uri": "https://localhost:8080/"
        },
        "outputId": "1ff9362f-128a-4402-b4a7-c3749b1e3289"
      },
      "outputs": [
        {
          "output_type": "execute_result",
          "data": {
            "text/plain": [
              "RandomizedSearchCV(cv=3, error_score='raise',\n",
              "                   estimator=Pipeline(steps=[('combined_features',\n",
              "                                              ColumnTransformer(remainder=Pipeline(steps=[('sparse',\n",
              "                                                                                           SparseTransformer())]),\n",
              "                                                                transformers=[('tfidf',\n",
              "                                                                               Pipeline(steps=[('tfidf',\n",
              "                                                                                                TfidfVectorizer(max_features=5))]),\n",
              "                                                                               'cleaned_text')])),\n",
              "                                             ('classifier', XGBClassifier())]),\n",
              "                   param_distributions={'classifier__learning_rate': array([0.01, 0.12, 0.23, 0.34, 0.45, 0.56, 0.67, 0.78, 0.89, 1.  ]),\n",
              "                                        'classifier__weights': [1, 10, 25, 50,\n",
              "                                                                75, 99, 100,\n",
              "                                                                1000],\n",
              "                                        'combined_features__tfidf__tfidf__max_features': [500,\n",
              "                                                                                          1000,\n",
              "                                                                                          2000]},\n",
              "                   random_state=0, return_train_score=True,\n",
              "                   scoring=make_scorer(fbeta_score, beta=0.5))"
            ]
          },
          "metadata": {},
          "execution_count": 194
        }
      ],
      "source": [
        "# Fit the model on training data\n",
        "grid_classifier_1c.fit(X_train_final, y_train)"
      ]
    },
    {
      "cell_type": "code",
      "execution_count": 195,
      "metadata": {
        "execution": {
          "iopub.execute_input": "2022-02-16T12:38:17.884695Z",
          "iopub.status.busy": "2022-02-16T12:38:17.884564Z",
          "iopub.status.idle": "2022-02-16T12:38:17.895740Z",
          "shell.execute_reply": "2022-02-16T12:38:17.895333Z",
          "shell.execute_reply.started": "2022-02-16T12:38:17.884681Z"
        },
        "tags": [],
        "id": "JODCe9SMeyJL",
        "colab": {
          "base_uri": "https://localhost:8080/"
        },
        "outputId": "28214b76-6ae7-425e-d6cc-77adfa53c741"
      },
      "outputs": [
        {
          "output_type": "stream",
          "name": "stdout",
          "text": [
            "Best cross-validation score: 0.93\n",
            "\n",
            "Best parameters:  {'combined_features__tfidf__tfidf__max_features': 2000, 'classifier__weights': 1, 'classifier__learning_rate': 0.34}\n",
            "\n",
            "Best estimator:  Pipeline(steps=[('combined_features',\n",
            "                 ColumnTransformer(remainder=Pipeline(steps=[('sparse',\n",
            "                                                              SparseTransformer())]),\n",
            "                                   transformers=[('tfidf',\n",
            "                                                  Pipeline(steps=[('tfidf',\n",
            "                                                                   TfidfVectorizer(max_features=2000))]),\n",
            "                                                  'cleaned_text')])),\n",
            "                ('classifier', XGBClassifier(learning_rate=0.34, weights=1))])\n"
          ]
        }
      ],
      "source": [
        "print(\"Best cross-validation score: {:.2f}\".format(grid_classifier_1c.best_score_))\n",
        "print(\"\\nBest parameters: \", grid_classifier_1c.best_params_)\n",
        "print(\"\\nBest estimator: \", grid_classifier_1c.best_estimator_)"
      ]
    },
    {
      "cell_type": "code",
      "execution_count": 196,
      "metadata": {
        "execution": {
          "iopub.execute_input": "2022-02-16T12:38:23.762262Z",
          "iopub.status.busy": "2022-02-16T12:38:23.762092Z",
          "iopub.status.idle": "2022-02-16T12:38:23.764913Z",
          "shell.execute_reply": "2022-02-16T12:38:23.764534Z",
          "shell.execute_reply.started": "2022-02-16T12:38:23.762244Z"
        },
        "tags": [],
        "id": "Yj5Ci5IieyJM"
      },
      "outputs": [],
      "source": [
        "file_model_combined = model_folder / 'combined_model.pkl'"
      ]
    },
    {
      "cell_type": "code",
      "execution_count": 197,
      "metadata": {
        "execution": {
          "iopub.execute_input": "2022-02-16T12:38:24.903232Z",
          "iopub.status.busy": "2022-02-16T12:38:24.903063Z",
          "iopub.status.idle": "2022-02-16T12:38:24.976700Z",
          "shell.execute_reply": "2022-02-16T12:38:24.976222Z",
          "shell.execute_reply.started": "2022-02-16T12:38:24.903213Z"
        },
        "tags": [],
        "id": "wkeLTqaAeyJM",
        "colab": {
          "base_uri": "https://localhost:8080/"
        },
        "outputId": "022d8ed0-493b-448c-9a75-da2666449b0d"
      },
      "outputs": [
        {
          "output_type": "execute_result",
          "data": {
            "text/plain": [
              "['/content/drive/MyDrive/Colab Notebooks/Models/combined_model.pkl']"
            ]
          },
          "metadata": {},
          "execution_count": 197
        }
      ],
      "source": [
        "joblib.dump(grid_classifier_1c.best_estimator_, file_model_combined)"
      ]
    },
    {
      "cell_type": "code",
      "execution_count": 198,
      "metadata": {
        "execution": {
          "iopub.execute_input": "2022-02-16T12:38:33.919777Z",
          "iopub.status.busy": "2022-02-16T12:38:33.919624Z",
          "iopub.status.idle": "2022-02-16T12:38:33.958981Z",
          "shell.execute_reply": "2022-02-16T12:38:33.958575Z",
          "shell.execute_reply.started": "2022-02-16T12:38:33.919752Z"
        },
        "tags": [],
        "id": "5iUzhIK2eyJN"
      },
      "outputs": [],
      "source": [
        "# load the saved model\n",
        "loaded_model_combined = joblib.load(file_model_combined)"
      ]
    },
    {
      "cell_type": "code",
      "execution_count": 199,
      "metadata": {
        "execution": {
          "iopub.execute_input": "2022-02-16T12:38:44.390671Z",
          "iopub.status.busy": "2022-02-16T12:38:44.390516Z",
          "iopub.status.idle": "2022-02-16T12:39:32.513139Z",
          "shell.execute_reply": "2022-02-16T12:39:32.512762Z",
          "shell.execute_reply.started": "2022-02-16T12:38:44.390645Z"
        },
        "tags": [],
        "id": "HGXtUyQyeyJO",
        "colab": {
          "base_uri": "https://localhost:8080/",
          "height": 368
        },
        "outputId": "4c275b4c-6866-414f-aeac-0e19a9a4b102"
      },
      "outputs": [
        {
          "output_type": "execute_result",
          "data": {
            "text/plain": [
              "<module 'matplotlib.pyplot' from '/usr/local/lib/python3.7/dist-packages/matplotlib/pyplot.py'>"
            ]
          },
          "metadata": {},
          "execution_count": 199
        },
        {
          "output_type": "display_data",
          "data": {
            "text/plain": [
              "<Figure size 1440x360 with 3 Axes>"
            ],
            "image/png": "[encoded data removed]"
          },
          "metadata": {
            "needs_background": "light"
          }
        }
      ],
      "source": [
        "# plot learning curves for f0.5 score\n",
        "plot_learning_curve(loaded_model_combined, 'Learning Curves classifier_1c', X_train_final, y_train)"
      ]
    },
    {
      "cell_type": "markdown",
      "metadata": {
        "id": "SuVMpZsteyJR"
      },
      "source": [
        "#### Evaluate model on test datset"
      ]
    },
    {
      "cell_type": "code",
      "execution_count": 200,
      "metadata": {
        "execution": {
          "iopub.execute_input": "2022-02-16T12:39:42.983241Z",
          "iopub.status.busy": "2022-02-16T12:39:42.982678Z",
          "iopub.status.idle": "2022-02-16T12:40:06.186441Z",
          "shell.execute_reply": "2022-02-16T12:40:06.185801Z",
          "shell.execute_reply.started": "2022-02-16T12:39:42.983225Z"
        },
        "tags": [],
        "id": "2C6CkA3meyJS"
      },
      "outputs": [],
      "source": [
        "X_test_cleaned = cp.SpacyPreprocessor(model = 'en_core_web_sm', remove_stop=True).transform(X_test)"
      ]
    },
    {
      "cell_type": "code",
      "execution_count": 201,
      "metadata": {
        "execution": {
          "iopub.execute_input": "2022-02-16T12:40:06.187323Z",
          "iopub.status.busy": "2022-02-16T12:40:06.187232Z",
          "iopub.status.idle": "2022-02-16T12:40:06.189520Z",
          "shell.execute_reply": "2022-02-16T12:40:06.189165Z",
          "shell.execute_reply.started": "2022-02-16T12:40:06.187312Z"
        },
        "tags": [],
        "id": "-ptf5n9oeyJT"
      },
      "outputs": [],
      "source": [
        "# save  this to a file\n",
        "X_test_cleaned_sparse_embed = model_folder / 'x_test_cleaned_sparse_embed.pkl'"
      ]
    },
    {
      "cell_type": "code",
      "execution_count": 202,
      "metadata": {
        "execution": {
          "iopub.execute_input": "2022-02-16T12:40:06.190090Z",
          "iopub.status.busy": "2022-02-16T12:40:06.189967Z",
          "iopub.status.idle": "2022-02-16T12:40:06.202493Z",
          "shell.execute_reply": "2022-02-16T12:40:06.202188Z",
          "shell.execute_reply.started": "2022-02-16T12:40:06.190079Z"
        },
        "tags": [],
        "id": "Ad0imfzTeyJT",
        "colab": {
          "base_uri": "https://localhost:8080/"
        },
        "outputId": "cfdeaf2d-22d5-40a8-81ff-43e580d808b4"
      },
      "outputs": [
        {
          "output_type": "execute_result",
          "data": {
            "text/plain": [
              "['/content/drive/MyDrive/Colab Notebooks/Models/x_test_cleaned_sparse_embed.pkl']"
            ]
          },
          "metadata": {},
          "execution_count": 202
        }
      ],
      "source": [
        "joblib.dump(X_test_cleaned, X_test_cleaned_sparse_embed)"
      ]
    },
    {
      "cell_type": "code",
      "execution_count": 203,
      "metadata": {
        "execution": {
          "iopub.execute_input": "2022-02-16T12:40:06.203542Z",
          "iopub.status.busy": "2022-02-16T12:40:06.203399Z",
          "iopub.status.idle": "2022-02-16T12:40:06.206490Z",
          "shell.execute_reply": "2022-02-16T12:40:06.206203Z",
          "shell.execute_reply.started": "2022-02-16T12:40:06.203528Z"
        },
        "tags": [],
        "id": "t7VCCBBgeyJU"
      },
      "outputs": [],
      "source": [
        "# Final Pipeline\n",
        "def final_pipeline(text):\n",
        "  cleaned_text = cp.SpacyPreprocessor(model = 'en_core_web_sm', remove_stop=True).transform(text)\n",
        "  X_features, feature_names  = featurizer.fit_transform(text)\n",
        "  X_final = pd.concat((pd.DataFrame(cleaned_text, columns =['cleaned_text']), \n",
        "                           pd.DataFrame(X_features, columns=feature_names)),axis =1)\n",
        "  \n",
        "  predictions = loaded_model_combined.predict(X_final)\n",
        "  return predictions"
      ]
    },
    {
      "cell_type": "code",
      "execution_count": 204,
      "metadata": {
        "execution": {
          "iopub.execute_input": "2022-02-16T12:40:06.207102Z",
          "iopub.status.busy": "2022-02-16T12:40:06.206981Z",
          "iopub.status.idle": "2022-02-16T12:41:01.637012Z",
          "shell.execute_reply": "2022-02-16T12:41:01.636553Z",
          "shell.execute_reply.started": "2022-02-16T12:40:06.207089Z"
        },
        "tags": [],
        "id": "QiJ-DtF4eyJV"
      },
      "outputs": [],
      "source": [
        "# predicted values for Test data set\n",
        "y_test_pred = final_pipeline(X_test)"
      ]
    },
    {
      "cell_type": "code",
      "execution_count": 205,
      "metadata": {
        "execution": {
          "iopub.execute_input": "2022-02-16T12:42:11.389131Z",
          "iopub.status.busy": "2022-02-16T12:42:11.388727Z",
          "iopub.status.idle": "2022-02-16T12:42:11.398640Z",
          "shell.execute_reply": "2022-02-16T12:42:11.398180Z",
          "shell.execute_reply.started": "2022-02-16T12:42:11.389116Z"
        },
        "tags": [],
        "id": "t_bjI57UeyJW",
        "colab": {
          "base_uri": "https://localhost:8080/"
        },
        "outputId": "82570d9f-097b-4d3d-ef31-e58b9d1a341b"
      },
      "outputs": [
        {
          "output_type": "stream",
          "name": "stdout",
          "text": [
            "\n",
            "Test set classification report:\n",
            "\n",
            "               precision    recall  f1-score   support\n",
            "\n",
            "           0       0.98      0.99      0.99       577\n",
            "           1       0.96      0.85      0.90        92\n",
            "\n",
            "    accuracy                           0.97       669\n",
            "   macro avg       0.97      0.92      0.94       669\n",
            "weighted avg       0.97      0.97      0.97       669\n",
            "\n"
          ]
        }
      ],
      "source": [
        "print('\\nTest set classification report:\\n\\n',classification_report(y_test, y_test_pred ))"
      ]
    },
    {
      "cell_type": "code",
      "source": [
        "print('\\nF0.5 Score: ', fbeta_score(y_test, y_test_pred, beta=0.5))"
      ],
      "metadata": {
        "id": "QkeDD1JgYNR-",
        "colab": {
          "base_uri": "https://localhost:8080/"
        },
        "outputId": "51af9c9e-79f4-4702-eb18-f331d045f572"
      },
      "execution_count": 206,
      "outputs": [
        {
          "output_type": "stream",
          "name": "stdout",
          "text": [
            "\n",
            "F0.5 Score:  0.9375000000000001\n"
          ]
        }
      ]
    }
  ]
}